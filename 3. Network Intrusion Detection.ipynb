{
 "cells": [
  {
   "cell_type": "markdown",
   "metadata": {},
   "source": [
    "## Objective is to build a network intrusion detection system to detect anamolies and attacks in the network. There are two problems.\n",
    "### 1. Binomial Classification: Activity is normal or attack\n",
    "### 2. Multinomial classification: Activity is normal or DOS or PROBE or R2L or U2R\n"
   ]
  },
  {
   "cell_type": "code",
   "execution_count": 1,
   "metadata": {
    "scrolled": true
   },
   "outputs": [],
   "source": [
    "# Here are some imports that are used along this notebook\n",
    "import math\n",
    "import itertools\n",
    "import pandas\n",
    "import numpy as np\n",
    "import pandas as pd\n",
    "import matplotlib.pyplot as plt\n",
    "import seaborn as sns\n",
    "from time import time\n",
    "from collections import OrderedDict\n",
    "%matplotlib inline\n",
    "gt0 = time()"
   ]
  },
  {
   "cell_type": "code",
   "execution_count": 2,
   "metadata": {
    "scrolled": false
   },
   "outputs": [],
   "source": [
    "import pyspark\n",
    "from pyspark.sql import SQLContext, Row\n",
    "\n",
    "sc = pyspark.SparkContext()\n",
    "sc.setLogLevel('INFO')\n",
    "sqlContext = SQLContext(sc)"
   ]
  },
  {
   "cell_type": "code",
   "execution_count": 3,
   "metadata": {
    "scrolled": false
   },
   "outputs": [],
   "source": [
    "from pyspark.sql.types import *\n",
    "from pyspark.sql.functions import udf, split, col\n",
    "import pyspark.sql.functions as sql\n",
    "\n",
    "train_path = \"D:/PYTHON VIDEOS AND PRACTICE/PYTHON DOCS/Bootcamp materials/3. Case Studies & Final Projects/3. Network Intrusion Detection System/NSL_Dataset/Train.txt\"\n",
    "test_path = \"D:/PYTHON VIDEOS AND PRACTICE/PYTHON DOCS/Bootcamp materials/3. Case Studies & Final Projects/3. Network Intrusion Detection System/NSL_Dataset/Test.txt\"\n",
    "\n",
    "col_names = np.array([\"duration\",\"protocol_type\",\"service\",\"flag\",\"src_bytes\",\n",
    "    \"dst_bytes\",\"land\",\"wrong_fragment\",\"urgent\",\"hot\",\"num_failed_logins\",\n",
    "    \"logged_in\",\"num_compromised\",\"root_shell\",\"su_attempted\",\"num_root\",\n",
    "    \"num_file_creations\",\"num_shells\",\"num_access_files\",\"num_outbound_cmds\",\n",
    "    \"is_host_login\",\"is_guest_login\",\"count\",\"srv_count\",\"serror_rate\",\n",
    "    \"srv_serror_rate\",\"rerror_rate\",\"srv_rerror_rate\",\"same_srv_rate\",\n",
    "    \"diff_srv_rate\",\"srv_diff_host_rate\",\"dst_host_count\",\"dst_host_srv_count\",\n",
    "    \"dst_host_same_srv_rate\",\"dst_host_diff_srv_rate\",\"dst_host_same_src_port_rate\",\n",
    "    \"dst_host_srv_diff_host_rate\",\"dst_host_serror_rate\",\"dst_host_srv_serror_rate\",\n",
    "    \"dst_host_rerror_rate\",\"dst_host_srv_rerror_rate\",\"labels\"])\n",
    "\n",
    "nominal_inx = [1, 2, 3]\n",
    "binary_inx = [6, 11, 13, 14, 20, 21]\n",
    "numeric_inx = list(set(range(41)).difference(nominal_inx).difference(binary_inx))\n",
    "\n",
    "nominal_cols = col_names[nominal_inx].tolist()\n",
    "binary_cols = col_names[binary_inx].tolist()\n",
    "numeric_cols = col_names[numeric_inx].tolist()"
   ]
  },
  {
   "cell_type": "code",
   "execution_count": 4,
   "metadata": {
    "scrolled": false
   },
   "outputs": [],
   "source": [
    "train_rdd = sc.textFile(train_path).map(lambda line: line.split(','))\n",
    "train_df = train_rdd.toDF(col_names.tolist()).select(\n",
    "                    col('duration').cast(DoubleType()),\n",
    "                    col('protocol_type').cast(StringType()),\n",
    "                    col('service').cast(StringType()),\n",
    "                    col('flag').cast(StringType()),\n",
    "                    col('src_bytes').cast(DoubleType()),\n",
    "                    col('dst_bytes').cast(DoubleType()),\n",
    "                    col('land').cast(DoubleType()),\n",
    "                    col('wrong_fragment').cast(DoubleType()),\n",
    "                    col('urgent').cast(DoubleType()),\n",
    "                    col('hot').cast(DoubleType()),\n",
    "                    col('num_failed_logins').cast(DoubleType()),\n",
    "                    col('logged_in').cast(DoubleType()),\n",
    "                    col('num_compromised').cast(DoubleType()),\n",
    "                    col('root_shell').cast(DoubleType()),\n",
    "                    col('su_attempted').cast(DoubleType()),\n",
    "                    col('num_root').cast(DoubleType()),\n",
    "                    col('num_file_creations').cast(DoubleType()),\n",
    "                    col('num_shells').cast(DoubleType()),\n",
    "                    col('num_access_files').cast(DoubleType()),\n",
    "                    col('num_outbound_cmds').cast(DoubleType()),\n",
    "                    col('is_host_login').cast(DoubleType()),\n",
    "                    col('is_guest_login').cast(DoubleType()),\n",
    "                    col('count').cast(DoubleType()),\n",
    "                    col('srv_count').cast(DoubleType()),\n",
    "                    col('serror_rate').cast(DoubleType()),\n",
    "                    col('srv_serror_rate').cast(DoubleType()),\n",
    "                    col('rerror_rate').cast(DoubleType()),\n",
    "                    col('srv_rerror_rate').cast(DoubleType()),\n",
    "                    col('same_srv_rate').cast(DoubleType()),\n",
    "                    col('diff_srv_rate').cast(DoubleType()),\n",
    "                    col('srv_diff_host_rate').cast(DoubleType()),\n",
    "                    col('dst_host_count').cast(DoubleType()),\n",
    "                    col('dst_host_srv_count').cast(DoubleType()),\n",
    "                    col('dst_host_same_srv_rate').cast(DoubleType()),\n",
    "                    col('dst_host_diff_srv_rate').cast(DoubleType()),\n",
    "                    col('dst_host_same_src_port_rate').cast(DoubleType()),\n",
    "                    col('dst_host_srv_diff_host_rate').cast(DoubleType()),\n",
    "                    col('dst_host_serror_rate').cast(DoubleType()),\n",
    "                    col('dst_host_srv_serror_rate').cast(DoubleType()),\n",
    "                    col('dst_host_rerror_rate').cast(DoubleType()),\n",
    "                    col('dst_host_srv_rerror_rate').cast(DoubleType()),\n",
    "                    col('labels').cast(StringType()))"
   ]
  },
  {
   "cell_type": "code",
   "execution_count": 5,
   "metadata": {},
   "outputs": [
    {
     "data": {
      "text/plain": [
       "DataFrame[duration: double, protocol_type: string, service: string, flag: string, src_bytes: double, dst_bytes: double, land: double, wrong_fragment: double, urgent: double, hot: double, num_failed_logins: double, logged_in: double, num_compromised: double, root_shell: double, su_attempted: double, num_root: double, num_file_creations: double, num_shells: double, num_access_files: double, num_outbound_cmds: double, is_host_login: double, is_guest_login: double, count: double, srv_count: double, serror_rate: double, srv_serror_rate: double, rerror_rate: double, srv_rerror_rate: double, same_srv_rate: double, diff_srv_rate: double, srv_diff_host_rate: double, dst_host_count: double, dst_host_srv_count: double, dst_host_same_srv_rate: double, dst_host_diff_srv_rate: double, dst_host_same_src_port_rate: double, dst_host_srv_diff_host_rate: double, dst_host_serror_rate: double, dst_host_srv_serror_rate: double, dst_host_rerror_rate: double, dst_host_srv_rerror_rate: double, labels: string]"
      ]
     },
     "execution_count": 5,
     "metadata": {},
     "output_type": "execute_result"
    }
   ],
   "source": [
    "train_df"
   ]
  },
  {
   "cell_type": "markdown",
   "metadata": {},
   "source": [
    "The first part of data preparation is deviding connections into normal and attack classes based on 'labels' column. Then attacks are splitted to four main categories: DoS, Probe, R2L and U2R. After this, all of those categories are indexed. Also, ID column is added to simplify work with clustered data."
   ]
  },
  {
   "cell_type": "code",
   "execution_count": 6,
   "metadata": {
    "scrolled": false
   },
   "outputs": [],
   "source": [
    "from pyspark.ml import Pipeline, Transformer\n",
    "from pyspark.ml.feature import StringIndexer\n",
    "from pyspark import keyword_only\n",
    "from pyspark.ml.param.shared import HasInputCol, HasOutputCol, Param\n",
    "\n",
    "# Dictionary that contains mapping of various attacks to the four main categories\n",
    "attack_dict = {\n",
    "    'normal': 'normal',\n",
    "    \n",
    "    'back': 'DoS',\n",
    "    'land': 'DoS',\n",
    "    'neptune': 'DoS',\n",
    "    'pod': 'DoS',\n",
    "    'smurf': 'DoS',\n",
    "    'teardrop': 'DoS',\n",
    "    'mailbomb': 'DoS',\n",
    "    'apache2': 'DoS',\n",
    "    'processtable': 'DoS',\n",
    "    'udpstorm': 'DoS',\n",
    "    \n",
    "    'ipsweep': 'Probe',\n",
    "    'nmap': 'Probe',\n",
    "    'portsweep': 'Probe',\n",
    "    'satan': 'Probe',\n",
    "    'mscan': 'Probe',\n",
    "    'saint': 'Probe',\n",
    "\n",
    "    'ftp_write': 'R2L',\n",
    "    'guess_passwd': 'R2L',\n",
    "    'imap': 'R2L',\n",
    "    'multihop': 'R2L',\n",
    "    'phf': 'R2L',\n",
    "    'spy': 'R2L',\n",
    "    'warezclient': 'R2L',\n",
    "    'warezmaster': 'R2L',\n",
    "    'sendmail': 'R2L',\n",
    "    'named': 'R2L',\n",
    "    'snmpgetattack': 'R2L',\n",
    "    'snmpguess': 'R2L',\n",
    "    'xlock': 'R2L',\n",
    "    'xsnoop': 'R2L',\n",
    "    'worm': 'R2L',\n",
    "    \n",
    "    'buffer_overflow': 'U2R',\n",
    "    'loadmodule': 'U2R',\n",
    "    'perl': 'U2R',\n",
    "    'rootkit': 'U2R',\n",
    "    'httptunnel': 'U2R',\n",
    "    'ps': 'U2R',    \n",
    "    'sqlattack': 'U2R',\n",
    "    'xterm': 'U2R'\n",
    "}\n",
    "\n",
    "attack_mapping_udf = udf(lambda v: attack_dict[v])\n",
    "\n",
    "class Labels2Converter(Transformer):\n",
    "\n",
    "    @keyword_only\n",
    "    def __init__(self):\n",
    "        super(Labels2Converter, self).__init__()\n",
    "\n",
    "    def _transform(self, dataset):\n",
    "        return dataset.withColumn('labels2', sql.regexp_replace(col('labels'), '^(?!normal).*$', 'attack'))\n",
    "     \n",
    "class Labels5Converter(Transformer):\n",
    "    \n",
    "    @keyword_only\n",
    "    def __init__(self):\n",
    "        super(Labels5Converter, self).__init__()\n",
    "\n",
    "    def _transform(self, dataset):\n",
    "        return dataset.withColumn('labels5', attack_mapping_udf(col('labels')))\n",
    "    \n",
    "labels2_indexer = StringIndexer(inputCol=\"labels2\", outputCol=\"labels2_index\")\n",
    "labels5_indexer = StringIndexer(inputCol=\"labels5\", outputCol=\"labels5_index\")\n",
    "\n",
    "labels_mapping_pipeline = Pipeline(stages=[Labels2Converter(), Labels5Converter(), labels2_indexer, labels5_indexer])\n",
    "\n",
    "labels2 = ['normal', 'attack']\n",
    "labels5 = ['normal', 'DoS', 'Probe', 'R2L', 'U2R']\n",
    "labels_col = 'labels2_index'"
   ]
  },
  {
   "cell_type": "code",
   "execution_count": 7,
   "metadata": {},
   "outputs": [],
   "source": [
    "# Fitting preparation pipeline\n",
    "labels_mapping_model = labels_mapping_pipeline.fit(train_df)"
   ]
  },
  {
   "cell_type": "code",
   "execution_count": 8,
   "metadata": {
    "scrolled": false
   },
   "outputs": [],
   "source": [
    "# Transforming labels column and adding id column\n",
    "train_df = labels_mapping_model.transform(train_df).withColumn('id', sql.monotonically_increasing_id())"
   ]
  },
  {
   "cell_type": "code",
   "execution_count": 9,
   "metadata": {},
   "outputs": [],
   "source": [
    "# Loading test data\n",
    "test_rdd = sc.textFile(test_path).map(lambda line: line.split(','))\n",
    "test_df = test_rdd.toDF(col_names.tolist()).select(\n",
    "                    col('duration').cast(DoubleType()),\n",
    "                    col('protocol_type').cast(StringType()),\n",
    "                    col('service').cast(StringType()),\n",
    "                    col('flag').cast(StringType()),\n",
    "                    col('src_bytes').cast(DoubleType()),\n",
    "                    col('dst_bytes').cast(DoubleType()),\n",
    "                    col('land').cast(DoubleType()),\n",
    "                    col('wrong_fragment').cast(DoubleType()),\n",
    "                    col('urgent').cast(DoubleType()),\n",
    "                    col('hot').cast(DoubleType()),\n",
    "                    col('num_failed_logins').cast(DoubleType()),\n",
    "                    col('logged_in').cast(DoubleType()),\n",
    "                    col('num_compromised').cast(DoubleType()),\n",
    "                    col('root_shell').cast(DoubleType()),\n",
    "                    col('su_attempted').cast(DoubleType()),\n",
    "                    col('num_root').cast(DoubleType()),\n",
    "                    col('num_file_creations').cast(DoubleType()),\n",
    "                    col('num_shells').cast(DoubleType()),\n",
    "                    col('num_access_files').cast(DoubleType()),\n",
    "                    col('num_outbound_cmds').cast(DoubleType()),\n",
    "                    col('is_host_login').cast(DoubleType()),\n",
    "                    col('is_guest_login').cast(DoubleType()),\n",
    "                    col('count').cast(DoubleType()),\n",
    "                    col('srv_count').cast(DoubleType()),\n",
    "                    col('serror_rate').cast(DoubleType()),\n",
    "                    col('srv_serror_rate').cast(DoubleType()),\n",
    "                    col('rerror_rate').cast(DoubleType()),\n",
    "                    col('srv_rerror_rate').cast(DoubleType()),\n",
    "                    col('same_srv_rate').cast(DoubleType()),\n",
    "                    col('diff_srv_rate').cast(DoubleType()),\n",
    "                    col('srv_diff_host_rate').cast(DoubleType()),\n",
    "                    col('dst_host_count').cast(DoubleType()),\n",
    "                    col('dst_host_srv_count').cast(DoubleType()),\n",
    "                    col('dst_host_same_srv_rate').cast(DoubleType()),\n",
    "                    col('dst_host_diff_srv_rate').cast(DoubleType()),\n",
    "                    col('dst_host_same_src_port_rate').cast(DoubleType()),\n",
    "                    col('dst_host_srv_diff_host_rate').cast(DoubleType()),\n",
    "                    col('dst_host_serror_rate').cast(DoubleType()),\n",
    "                    col('dst_host_srv_serror_rate').cast(DoubleType()),\n",
    "                    col('dst_host_rerror_rate').cast(DoubleType()),\n",
    "                    col('dst_host_srv_rerror_rate').cast(DoubleType()),\n",
    "                    col('labels').cast(StringType()))"
   ]
  },
  {
   "cell_type": "code",
   "execution_count": 10,
   "metadata": {
    "scrolled": false
   },
   "outputs": [
    {
     "name": "stdout",
     "output_type": "stream",
     "text": [
      "22544\n"
     ]
    }
   ],
   "source": [
    "# Transforming labels column and adding id column\n",
    "test_df = labels_mapping_model.transform(test_df).withColumn('id', sql.monotonically_increasing_id())\n",
    "\n",
    "test_df = test_df.cache()\n",
    "print(test_df.count())"
   ]
  },
  {
   "cell_type": "markdown",
   "metadata": {},
   "source": [
    "## Exploratory Data Analysis"
   ]
  },
  {
   "cell_type": "markdown",
   "metadata": {},
   "source": [
    "Here are some descriptive statistics of available features."
   ]
  },
  {
   "cell_type": "code",
   "execution_count": 11,
   "metadata": {
    "scrolled": false
   },
   "outputs": [
    {
     "name": "stdout",
     "output_type": "stream",
     "text": [
      "+-------+-----+\n",
      "|labels2|count|\n",
      "+-------+-----+\n",
      "| normal|67343|\n",
      "| attack|58630|\n",
      "+-------+-----+\n",
      "\n",
      "+-------+-----+\n",
      "|labels5|count|\n",
      "+-------+-----+\n",
      "| normal|67343|\n",
      "|    DoS|45927|\n",
      "|  Probe|11656|\n",
      "|    R2L|  995|\n",
      "|    U2R|   52|\n",
      "+-------+-----+\n",
      "\n"
     ]
    }
   ],
   "source": [
    "# Labels columns\n",
    "(train_df.groupby('labels2').count().show())\n",
    "(train_df.groupby('labels5').count().sort(sql.desc('count')).show())"
   ]
  },
  {
   "cell_type": "code",
   "execution_count": 12,
   "metadata": {
    "scrolled": true
   },
   "outputs": [
    {
     "name": "stdout",
     "output_type": "stream",
     "text": [
      "+-------+-----+\n",
      "|labels2|count|\n",
      "+-------+-----+\n",
      "| normal| 9711|\n",
      "| attack|12833|\n",
      "+-------+-----+\n",
      "\n",
      "+-------+-----+\n",
      "|labels5|count|\n",
      "+-------+-----+\n",
      "| normal| 9711|\n",
      "|    DoS| 7458|\n",
      "|    R2L| 2754|\n",
      "|  Probe| 2421|\n",
      "|    U2R|  200|\n",
      "+-------+-----+\n",
      "\n"
     ]
    }
   ],
   "source": [
    "(test_df.groupby('labels2').count().show())\n",
    "(test_df.groupby('labels5').count().sort(sql.desc('count')).show())"
   ]
  },
  {
   "cell_type": "code",
   "execution_count": 13,
   "metadata": {
    "scrolled": false
   },
   "outputs": [
    {
     "name": "stdout",
     "output_type": "stream",
     "text": [
      "+---------------------+------+------+\n",
      "|protocol_type_labels2|attack|normal|\n",
      "+---------------------+------+------+\n",
      "|                 icmp|  6982|  1309|\n",
      "|                  tcp| 49089| 53600|\n",
      "|                  udp|  2559| 12434|\n",
      "+---------------------+------+------+\n",
      "\n",
      "+---------------------+-----+-----+---+---+------+\n",
      "|protocol_type_labels5|  DoS|Probe|R2L|U2R|normal|\n",
      "+---------------------+-----+-----+---+---+------+\n",
      "|                 icmp| 2847| 4135|  0|  0|  1309|\n",
      "|                  tcp|42188| 5857|995| 49| 53600|\n",
      "|                  udp|  892| 1664|  0|  3| 12434|\n",
      "+---------------------+-----+-----+---+---+------+\n",
      "\n"
     ]
    }
   ],
   "source": [
    "# 'protocol_type' nominal column\n",
    "(train_df.crosstab(nominal_cols[0], 'labels2').sort(sql.asc(nominal_cols[0] + '_labels2')).show())\n",
    "(train_df.crosstab(nominal_cols[0], 'labels5').sort(sql.asc(nominal_cols[0] + '_labels5')).show())"
   ]
  },
  {
   "cell_type": "code",
   "execution_count": 14,
   "metadata": {
    "scrolled": true
   },
   "outputs": [
    {
     "name": "stdout",
     "output_type": "stream",
     "text": [
      "70\n",
      "+---------------+------+------+\n",
      "|service_labels2|attack|normal|\n",
      "+---------------+------+------+\n",
      "|            IRC|     1|   186|\n",
      "|            X11|     6|    67|\n",
      "|         Z39_50|   862|     0|\n",
      "|            aol|     2|     0|\n",
      "|           auth|   719|   236|\n",
      "|            bgp|   710|     0|\n",
      "|        courier|   734|     0|\n",
      "|       csnet_ns|   545|     0|\n",
      "|            ctf|   563|     0|\n",
      "|        daytime|   521|     0|\n",
      "|        discard|   538|     0|\n",
      "|         domain|   531|    38|\n",
      "|       domain_u|     9|  9034|\n",
      "|           echo|   434|     0|\n",
      "|          eco_i|  4089|   497|\n",
      "|          ecr_i|  2887|   190|\n",
      "|            efs|   485|     0|\n",
      "|           exec|   474|     0|\n",
      "|         finger|  1222|   545|\n",
      "|            ftp|   836|   918|\n",
      "|       ftp_data|  1876|  4984|\n",
      "|         gopher|   518|     0|\n",
      "|        harvest|     2|     0|\n",
      "|      hostnames|   460|     0|\n",
      "|           http|  2289| 38049|\n",
      "|      http_2784|     1|     0|\n",
      "|       http_443|   530|     0|\n",
      "|      http_8001|     2|     0|\n",
      "|          imap4|   644|     3|\n",
      "|       iso_tsap|   687|     0|\n",
      "|         klogin|   433|     0|\n",
      "|         kshell|   299|     0|\n",
      "|           ldap|   410|     0|\n",
      "|           link|   475|     0|\n",
      "|          login|   429|     0|\n",
      "|            mtp|   439|     0|\n",
      "|           name|   451|     0|\n",
      "|    netbios_dgm|   405|     0|\n",
      "|     netbios_ns|   347|     0|\n",
      "|    netbios_ssn|   362|     0|\n",
      "|        netstat|   360|     0|\n",
      "|           nnsp|   630|     0|\n",
      "|           nntp|   296|     0|\n",
      "|          ntp_u|     0|   168|\n",
      "|          other|  1755|  2604|\n",
      "|        pm_dump|     5|     0|\n",
      "|          pop_2|    78|     0|\n",
      "|          pop_3|    78|   186|\n",
      "|        printer|    69|     0|\n",
      "|        private| 20871|   982|\n",
      "|          red_i|     0|     8|\n",
      "|     remote_job|    78|     0|\n",
      "|            rje|    86|     0|\n",
      "|          shell|    61|     4|\n",
      "|           smtp|   284|  7029|\n",
      "|        sql_net|   245|     0|\n",
      "|            ssh|   306|     5|\n",
      "|         sunrpc|   381|     0|\n",
      "|         supdup|   544|     0|\n",
      "|         systat|   477|     0|\n",
      "|         telnet|  1436|   917|\n",
      "|         tftp_u|     0|     3|\n",
      "|          tim_i|     3|     5|\n",
      "|           time|   578|    76|\n",
      "|          urh_i|     0|    10|\n",
      "|          urp_i|     3|   599|\n",
      "|           uucp|   780|     0|\n",
      "|      uucp_path|   689|     0|\n",
      "|          vmnet|   617|     0|\n",
      "|          whois|   693|     0|\n",
      "+---------------+------+------+\n",
      "\n",
      "+---------------+-----+-----+---+---+------+\n",
      "|service_labels5|  DoS|Probe|R2L|U2R|normal|\n",
      "+---------------+-----+-----+---+---+------+\n",
      "|            IRC|    0|    1|  0|  0|   186|\n",
      "|            X11|    0|    6|  0|  0|    67|\n",
      "|         Z39_50|  851|   11|  0|  0|     0|\n",
      "|            aol|    0|    2|  0|  0|     0|\n",
      "|           auth|  703|   16|  0|  0|   236|\n",
      "|            bgp|  699|   11|  0|  0|     0|\n",
      "|        courier|  726|    8|  0|  0|     0|\n",
      "|       csnet_ns|  533|   12|  0|  0|     0|\n",
      "|            ctf|  538|   25|  0|  0|     0|\n",
      "|        daytime|  503|   18|  0|  0|     0|\n",
      "|        discard|  520|   18|  0|  0|     0|\n",
      "|         domain|  508|   23|  0|  0|    38|\n",
      "|       domain_u|    0|    9|  0|  0|  9034|\n",
      "|           echo|  416|   18|  0|  0|     0|\n",
      "|          eco_i|    0| 4089|  0|  0|   497|\n",
      "|          ecr_i| 2844|   43|  0|  0|   190|\n",
      "|            efs|  478|    7|  0|  0|     0|\n",
      "|           exec|  465|    9|  0|  0|     0|\n",
      "|         finger| 1168|   54|  0|  0|   545|\n",
      "|            ftp|  489|   32|312|  3|   918|\n",
      "|       ftp_data| 1209|   51|604| 12|  4984|\n",
      "|         gopher|  485|   33|  0|  0|     0|\n",
      "|        harvest|    0|    2|  0|  0|     0|\n",
      "|      hostnames|  447|   13|  0|  0|     0|\n",
      "|           http| 2255|   30|  4|  0| 38049|\n",
      "|      http_2784|    0|    1|  0|  0|     0|\n",
      "|       http_443|  523|    7|  0|  0|     0|\n",
      "|      http_8001|    0|    2|  0|  0|     0|\n",
      "|          imap4|  622|   11| 11|  0|     3|\n",
      "|       iso_tsap|  675|   12|  0|  0|     0|\n",
      "|         klogin|  425|    8|  0|  0|     0|\n",
      "|         kshell|  292|    7|  0|  0|     0|\n",
      "|           ldap|  403|    7|  0|  0|     0|\n",
      "|           link|  454|   21|  0|  0|     0|\n",
      "|          login|  420|    7|  2|  0|     0|\n",
      "|            mtp|  416|   23|  0|  0|     0|\n",
      "|           name|  428|   23|  0|  0|     0|\n",
      "|    netbios_dgm|  392|   13|  0|  0|     0|\n",
      "|     netbios_ns|  336|   11|  0|  0|     0|\n",
      "|    netbios_ssn|  349|   13|  0|  0|     0|\n",
      "|        netstat|  344|   16|  0|  0|     0|\n",
      "|           nnsp|  622|    8|  0|  0|     0|\n",
      "|           nntp|  281|   15|  0|  0|     0|\n",
      "|          ntp_u|    0|    0|  0|  0|   168|\n",
      "|          other|   58| 1689|  5|  3|  2604|\n",
      "|        pm_dump|    0|    5|  0|  0|     0|\n",
      "|          pop_2|   70|    8|  0|  0|     0|\n",
      "|          pop_3|   67|   11|  0|  0|   186|\n",
      "|        printer|   62|    7|  0|  0|     0|\n",
      "|        private|15971| 4900|  0|  0|   982|\n",
      "|          red_i|    0|    0|  0|  0|     8|\n",
      "|     remote_job|   60|   18|  0|  0|     0|\n",
      "|            rje|   68|   18|  0|  0|     0|\n",
      "|          shell|   53|    8|  0|  0|     4|\n",
      "|           smtp|  241|   43|  0|  0|  7029|\n",
      "|        sql_net|  233|   12|  0|  0|     0|\n",
      "|            ssh|  281|   25|  0|  0|     5|\n",
      "|         sunrpc|  369|   12|  0|  0|     0|\n",
      "|         supdup|  528|   16|  0|  0|     0|\n",
      "|         systat|  460|   17|  0|  0|     0|\n",
      "|         telnet| 1312|   33| 57| 34|   917|\n",
      "|         tftp_u|    0|    0|  0|  0|     3|\n",
      "|          tim_i|    3|    0|  0|  0|     5|\n",
      "|           time|  551|   27|  0|  0|    76|\n",
      "|          urh_i|    0|    0|  0|  0|    10|\n",
      "|          urp_i|    0|    3|  0|  0|   599|\n",
      "|           uucp|  769|   11|  0|  0|     0|\n",
      "|      uucp_path|  676|   13|  0|  0|     0|\n",
      "|          vmnet|  606|   11|  0|  0|     0|\n",
      "|          whois|  670|   23|  0|  0|     0|\n",
      "+---------------+-----+-----+---+---+------+\n",
      "\n"
     ]
    }
   ],
   "source": [
    "# 'service' nominal column\n",
    "print(train_df.select(nominal_cols[1]).distinct().count())\n",
    "(train_df.crosstab(nominal_cols[1], 'labels2').sort(sql.asc(nominal_cols[1] + '_labels2')).show(n=70))\n",
    "(train_df.crosstab(nominal_cols[1], 'labels5').sort(sql.asc(nominal_cols[1] + '_labels5')).show(n=70))"
   ]
  },
  {
   "cell_type": "code",
   "execution_count": 15,
   "metadata": {
    "scrolled": false
   },
   "outputs": [
    {
     "name": "stdout",
     "output_type": "stream",
     "text": [
      "11\n",
      "+------------+------+------+\n",
      "|flag_labels2|attack|normal|\n",
      "+------------+------+------+\n",
      "|         OTH|    35|    11|\n",
      "|         REJ|  8540|  2693|\n",
      "|        RSTO|  1343|   219|\n",
      "|      RSTOS0|   103|     0|\n",
      "|        RSTR|  2275|   146|\n",
      "|          S0| 34497|   354|\n",
      "|          S1|     4|   361|\n",
      "|          S2|     8|   119|\n",
      "|          S3|     4|    45|\n",
      "|          SF| 11552| 63393|\n",
      "|          SH|   269|     2|\n",
      "+------------+------+------+\n",
      "\n",
      "+------------+-----+-----+---+---+------+\n",
      "|flag_labels5|  DoS|Probe|R2L|U2R|normal|\n",
      "+------------+-----+-----+---+---+------+\n",
      "|         OTH|    0|   35|  0|  0|    11|\n",
      "|         REJ| 5671| 2869|  0|  0|  2693|\n",
      "|        RSTO| 1216|   80| 46|  1|   219|\n",
      "|      RSTOS0|    0|  103|  0|  0|     0|\n",
      "|        RSTR|   90| 2180|  5|  0|   146|\n",
      "|          S0|34344|  153|  0|  0|   354|\n",
      "|          S1|    2|    1|  1|  0|   361|\n",
      "|          S2|    5|    2|  1|  0|   119|\n",
      "|          S3|    0|    1|  3|  0|    45|\n",
      "|          SF| 4599| 5967|935| 51| 63393|\n",
      "|          SH|    0|  265|  4|  0|     2|\n",
      "+------------+-----+-----+---+---+------+\n",
      "\n"
     ]
    }
   ],
   "source": [
    "# 'flag' nominal column\n",
    "print(train_df.select(nominal_cols[2]).distinct().count())\n",
    "(train_df.crosstab(nominal_cols[2], 'labels2').sort(sql.asc(nominal_cols[2] + '_labels2')).show())\n",
    "(train_df.crosstab(nominal_cols[2], 'labels5').sort(sql.asc(nominal_cols[2] + '_labels5')).show())"
   ]
  },
  {
   "cell_type": "code",
   "execution_count": 16,
   "metadata": {
    "scrolled": false
   },
   "outputs": [
    {
     "data": {
      "text/html": [
       "<div>\n",
       "<style scoped>\n",
       "    .dataframe tbody tr th:only-of-type {\n",
       "        vertical-align: middle;\n",
       "    }\n",
       "\n",
       "    .dataframe tbody tr th {\n",
       "        vertical-align: top;\n",
       "    }\n",
       "\n",
       "    .dataframe thead th {\n",
       "        text-align: right;\n",
       "    }\n",
       "</style>\n",
       "<table border=\"1\" class=\"dataframe\">\n",
       "  <thead>\n",
       "    <tr style=\"text-align: right;\">\n",
       "      <th></th>\n",
       "      <th>0</th>\n",
       "      <th>1</th>\n",
       "      <th>2</th>\n",
       "      <th>3</th>\n",
       "      <th>4</th>\n",
       "    </tr>\n",
       "  </thead>\n",
       "  <tbody>\n",
       "    <tr>\n",
       "      <td>summary</td>\n",
       "      <td>count</td>\n",
       "      <td>mean</td>\n",
       "      <td>stddev</td>\n",
       "      <td>min</td>\n",
       "      <td>max</td>\n",
       "    </tr>\n",
       "    <tr>\n",
       "      <td>land</td>\n",
       "      <td>125973</td>\n",
       "      <td>1.9845522453224102E-4</td>\n",
       "      <td>0.014086071671513122</td>\n",
       "      <td>0.0</td>\n",
       "      <td>1.0</td>\n",
       "    </tr>\n",
       "    <tr>\n",
       "      <td>logged_in</td>\n",
       "      <td>125973</td>\n",
       "      <td>0.3957355941352512</td>\n",
       "      <td>0.48901005300524014</td>\n",
       "      <td>0.0</td>\n",
       "      <td>1.0</td>\n",
       "    </tr>\n",
       "    <tr>\n",
       "      <td>root_shell</td>\n",
       "      <td>125973</td>\n",
       "      <td>0.0013415573178379495</td>\n",
       "      <td>0.03660284383979854</td>\n",
       "      <td>0.0</td>\n",
       "      <td>1.0</td>\n",
       "    </tr>\n",
       "    <tr>\n",
       "      <td>su_attempted</td>\n",
       "      <td>125973</td>\n",
       "      <td>0.0011034110483992602</td>\n",
       "      <td>0.045154383813865516</td>\n",
       "      <td>0.0</td>\n",
       "      <td>2.0</td>\n",
       "    </tr>\n",
       "    <tr>\n",
       "      <td>is_host_login</td>\n",
       "      <td>125973</td>\n",
       "      <td>7.938208981289641E-6</td>\n",
       "      <td>0.0028174827384191176</td>\n",
       "      <td>0.0</td>\n",
       "      <td>1.0</td>\n",
       "    </tr>\n",
       "    <tr>\n",
       "      <td>is_guest_login</td>\n",
       "      <td>125973</td>\n",
       "      <td>0.009422654060790804</td>\n",
       "      <td>0.09661232709143093</td>\n",
       "      <td>0.0</td>\n",
       "      <td>1.0</td>\n",
       "    </tr>\n",
       "  </tbody>\n",
       "</table>\n",
       "</div>"
      ],
      "text/plain": [
       "                     0                      1                      2    3    4\n",
       "summary          count                   mean                 stddev  min  max\n",
       "land            125973  1.9845522453224102E-4   0.014086071671513122  0.0  1.0\n",
       "logged_in       125973     0.3957355941352512    0.48901005300524014  0.0  1.0\n",
       "root_shell      125973  0.0013415573178379495    0.03660284383979854  0.0  1.0\n",
       "su_attempted    125973  0.0011034110483992602   0.045154383813865516  0.0  2.0\n",
       "is_host_login   125973   7.938208981289641E-6  0.0028174827384191176  0.0  1.0\n",
       "is_guest_login  125973   0.009422654060790804    0.09661232709143093  0.0  1.0"
      ]
     },
     "execution_count": 16,
     "metadata": {},
     "output_type": "execute_result"
    }
   ],
   "source": [
    "# Binary columns\n",
    "(train_df.select(binary_cols).describe().toPandas().transpose())"
   ]
  },
  {
   "cell_type": "code",
   "execution_count": 17,
   "metadata": {
    "scrolled": true
   },
   "outputs": [
    {
     "name": "stdout",
     "output_type": "stream",
     "text": [
      "+--------------------+------+------+\n",
      "|su_attempted_labels2|attack|normal|\n",
      "+--------------------+------+------+\n",
      "|                 2.0|     0|    59|\n",
      "|                 1.0|     1|    20|\n",
      "|                 0.0| 58629| 67264|\n",
      "+--------------------+------+------+\n",
      "\n"
     ]
    }
   ],
   "source": [
    "# 'su_attempted' should be a binary feature, but has 3 values\n",
    "(train_df.crosstab('su_attempted', 'labels2').show())"
   ]
  },
  {
   "cell_type": "code",
   "execution_count": 18,
   "metadata": {
    "scrolled": true
   },
   "outputs": [],
   "source": [
    "# '2.0' value is replaced to '0.0' for both train and test datasets\n",
    "train_df = train_df.replace(2.0, 0.0, 'su_attempted')\n",
    "test_df = test_df.replace(2.0, 0.0, 'su_attempted')"
   ]
  },
  {
   "cell_type": "code",
   "execution_count": 19,
   "metadata": {
    "scrolled": true
   },
   "outputs": [
    {
     "name": "stdout",
     "output_type": "stream",
     "text": [
      "32\n"
     ]
    },
    {
     "data": {
      "text/html": [
       "<div>\n",
       "<style scoped>\n",
       "    .dataframe tbody tr th:only-of-type {\n",
       "        vertical-align: middle;\n",
       "    }\n",
       "\n",
       "    .dataframe tbody tr th {\n",
       "        vertical-align: top;\n",
       "    }\n",
       "\n",
       "    .dataframe thead th {\n",
       "        text-align: right;\n",
       "    }\n",
       "</style>\n",
       "<table border=\"1\" class=\"dataframe\">\n",
       "  <thead>\n",
       "    <tr style=\"text-align: right;\">\n",
       "      <th></th>\n",
       "      <th>0</th>\n",
       "      <th>1</th>\n",
       "      <th>2</th>\n",
       "      <th>3</th>\n",
       "      <th>4</th>\n",
       "    </tr>\n",
       "  </thead>\n",
       "  <tbody>\n",
       "    <tr>\n",
       "      <td>summary</td>\n",
       "      <td>count</td>\n",
       "      <td>mean</td>\n",
       "      <td>stddev</td>\n",
       "      <td>min</td>\n",
       "      <td>max</td>\n",
       "    </tr>\n",
       "    <tr>\n",
       "      <td>duration</td>\n",
       "      <td>125973</td>\n",
       "      <td>287.1446500440571</td>\n",
       "      <td>2604.5153098675896</td>\n",
       "      <td>0.0</td>\n",
       "      <td>42908.0</td>\n",
       "    </tr>\n",
       "    <tr>\n",
       "      <td>src_bytes</td>\n",
       "      <td>125973</td>\n",
       "      <td>45566.74300048423</td>\n",
       "      <td>5870331.181893567</td>\n",
       "      <td>0.0</td>\n",
       "      <td>1.379963888E9</td>\n",
       "    </tr>\n",
       "    <tr>\n",
       "      <td>dst_bytes</td>\n",
       "      <td>125973</td>\n",
       "      <td>19779.114421344257</td>\n",
       "      <td>4021269.151441434</td>\n",
       "      <td>0.0</td>\n",
       "      <td>1.309937401E9</td>\n",
       "    </tr>\n",
       "    <tr>\n",
       "      <td>wrong_fragment</td>\n",
       "      <td>125973</td>\n",
       "      <td>0.022687401268525795</td>\n",
       "      <td>0.2535299859520133</td>\n",
       "      <td>0.0</td>\n",
       "      <td>3.0</td>\n",
       "    </tr>\n",
       "    <tr>\n",
       "      <td>urgent</td>\n",
       "      <td>125973</td>\n",
       "      <td>1.1113492573805498E-4</td>\n",
       "      <td>0.014366026620154248</td>\n",
       "      <td>0.0</td>\n",
       "      <td>3.0</td>\n",
       "    </tr>\n",
       "    <tr>\n",
       "      <td>hot</td>\n",
       "      <td>125973</td>\n",
       "      <td>0.20440888126820828</td>\n",
       "      <td>2.149968433704763</td>\n",
       "      <td>0.0</td>\n",
       "      <td>77.0</td>\n",
       "    </tr>\n",
       "    <tr>\n",
       "      <td>num_failed_logins</td>\n",
       "      <td>125973</td>\n",
       "      <td>0.0012224841831186047</td>\n",
       "      <td>0.045239138981329786</td>\n",
       "      <td>0.0</td>\n",
       "      <td>5.0</td>\n",
       "    </tr>\n",
       "    <tr>\n",
       "      <td>num_compromised</td>\n",
       "      <td>125973</td>\n",
       "      <td>0.279250315543807</td>\n",
       "      <td>23.942042242795086</td>\n",
       "      <td>0.0</td>\n",
       "      <td>7479.0</td>\n",
       "    </tr>\n",
       "    <tr>\n",
       "      <td>num_root</td>\n",
       "      <td>125973</td>\n",
       "      <td>0.30219173949973405</td>\n",
       "      <td>24.399618088837435</td>\n",
       "      <td>0.0</td>\n",
       "      <td>7468.0</td>\n",
       "    </tr>\n",
       "    <tr>\n",
       "      <td>num_file_creations</td>\n",
       "      <td>125973</td>\n",
       "      <td>0.012669381534138267</td>\n",
       "      <td>0.48393506939604275</td>\n",
       "      <td>0.0</td>\n",
       "      <td>43.0</td>\n",
       "    </tr>\n",
       "    <tr>\n",
       "      <td>num_shells</td>\n",
       "      <td>125973</td>\n",
       "      <td>4.1278686702706137E-4</td>\n",
       "      <td>0.022181128678694196</td>\n",
       "      <td>0.0</td>\n",
       "      <td>2.0</td>\n",
       "    </tr>\n",
       "    <tr>\n",
       "      <td>num_access_files</td>\n",
       "      <td>125973</td>\n",
       "      <td>0.004096115834345455</td>\n",
       "      <td>0.09936955575066096</td>\n",
       "      <td>0.0</td>\n",
       "      <td>9.0</td>\n",
       "    </tr>\n",
       "    <tr>\n",
       "      <td>num_outbound_cmds</td>\n",
       "      <td>125973</td>\n",
       "      <td>0.0</td>\n",
       "      <td>0.0</td>\n",
       "      <td>0.0</td>\n",
       "      <td>0.0</td>\n",
       "    </tr>\n",
       "    <tr>\n",
       "      <td>count</td>\n",
       "      <td>125973</td>\n",
       "      <td>84.1075547934875</td>\n",
       "      <td>114.50860735418416</td>\n",
       "      <td>0.0</td>\n",
       "      <td>511.0</td>\n",
       "    </tr>\n",
       "    <tr>\n",
       "      <td>srv_count</td>\n",
       "      <td>125973</td>\n",
       "      <td>27.737888277646796</td>\n",
       "      <td>72.63583964723813</td>\n",
       "      <td>0.0</td>\n",
       "      <td>511.0</td>\n",
       "    </tr>\n",
       "    <tr>\n",
       "      <td>serror_rate</td>\n",
       "      <td>125973</td>\n",
       "      <td>0.2844845323998005</td>\n",
       "      <td>0.4464556243310227</td>\n",
       "      <td>0.0</td>\n",
       "      <td>1.0</td>\n",
       "    </tr>\n",
       "    <tr>\n",
       "      <td>srv_serror_rate</td>\n",
       "      <td>125973</td>\n",
       "      <td>0.28248537384995276</td>\n",
       "      <td>0.44702249836401636</td>\n",
       "      <td>0.0</td>\n",
       "      <td>1.0</td>\n",
       "    </tr>\n",
       "    <tr>\n",
       "      <td>rerror_rate</td>\n",
       "      <td>125973</td>\n",
       "      <td>0.11995848316702784</td>\n",
       "      <td>0.32043552074951637</td>\n",
       "      <td>0.0</td>\n",
       "      <td>1.0</td>\n",
       "    </tr>\n",
       "    <tr>\n",
       "      <td>srv_rerror_rate</td>\n",
       "      <td>125973</td>\n",
       "      <td>0.12118326943075103</td>\n",
       "      <td>0.3236472280054633</td>\n",
       "      <td>0.0</td>\n",
       "      <td>1.0</td>\n",
       "    </tr>\n",
       "    <tr>\n",
       "      <td>same_srv_rate</td>\n",
       "      <td>125973</td>\n",
       "      <td>0.6609276591015496</td>\n",
       "      <td>0.4396228624074803</td>\n",
       "      <td>0.0</td>\n",
       "      <td>1.0</td>\n",
       "    </tr>\n",
       "    <tr>\n",
       "      <td>diff_srv_rate</td>\n",
       "      <td>125973</td>\n",
       "      <td>0.0630526382637572</td>\n",
       "      <td>0.18031440750857472</td>\n",
       "      <td>0.0</td>\n",
       "      <td>1.0</td>\n",
       "    </tr>\n",
       "    <tr>\n",
       "      <td>srv_diff_host_rate</td>\n",
       "      <td>125973</td>\n",
       "      <td>0.09732164828971714</td>\n",
       "      <td>0.2598304981211586</td>\n",
       "      <td>0.0</td>\n",
       "      <td>1.0</td>\n",
       "    </tr>\n",
       "    <tr>\n",
       "      <td>dst_host_count</td>\n",
       "      <td>125973</td>\n",
       "      <td>182.14894461511594</td>\n",
       "      <td>99.20621303459804</td>\n",
       "      <td>0.0</td>\n",
       "      <td>255.0</td>\n",
       "    </tr>\n",
       "    <tr>\n",
       "      <td>dst_host_srv_count</td>\n",
       "      <td>125973</td>\n",
       "      <td>115.65300500900987</td>\n",
       "      <td>110.70274078086466</td>\n",
       "      <td>0.0</td>\n",
       "      <td>255.0</td>\n",
       "    </tr>\n",
       "    <tr>\n",
       "      <td>dst_host_same_srv_rate</td>\n",
       "      <td>125973</td>\n",
       "      <td>0.521241694648846</td>\n",
       "      <td>0.44894936371767974</td>\n",
       "      <td>0.0</td>\n",
       "      <td>1.0</td>\n",
       "    </tr>\n",
       "    <tr>\n",
       "      <td>dst_host_diff_srv_rate</td>\n",
       "      <td>125973</td>\n",
       "      <td>0.08295110857090407</td>\n",
       "      <td>0.18892179990461488</td>\n",
       "      <td>0.0</td>\n",
       "      <td>1.0</td>\n",
       "    </tr>\n",
       "    <tr>\n",
       "      <td>dst_host_same_src_port_rate</td>\n",
       "      <td>125973</td>\n",
       "      <td>0.14837885896187675</td>\n",
       "      <td>0.3089971303729867</td>\n",
       "      <td>0.0</td>\n",
       "      <td>1.0</td>\n",
       "    </tr>\n",
       "    <tr>\n",
       "      <td>dst_host_srv_diff_host_rate</td>\n",
       "      <td>125973</td>\n",
       "      <td>0.032542449572522884</td>\n",
       "      <td>0.11256380488118978</td>\n",
       "      <td>0.0</td>\n",
       "      <td>1.0</td>\n",
       "    </tr>\n",
       "    <tr>\n",
       "      <td>dst_host_serror_rate</td>\n",
       "      <td>125973</td>\n",
       "      <td>0.28445246203552144</td>\n",
       "      <td>0.44478405031649065</td>\n",
       "      <td>0.0</td>\n",
       "      <td>1.0</td>\n",
       "    </tr>\n",
       "    <tr>\n",
       "      <td>dst_host_srv_serror_rate</td>\n",
       "      <td>125973</td>\n",
       "      <td>0.27848451652338635</td>\n",
       "      <td>0.4456691238860301</td>\n",
       "      <td>0.0</td>\n",
       "      <td>1.0</td>\n",
       "    </tr>\n",
       "    <tr>\n",
       "      <td>dst_host_rerror_rate</td>\n",
       "      <td>125973</td>\n",
       "      <td>0.11883181316631754</td>\n",
       "      <td>0.3065574580251695</td>\n",
       "      <td>0.0</td>\n",
       "      <td>1.0</td>\n",
       "    </tr>\n",
       "    <tr>\n",
       "      <td>dst_host_srv_rerror_rate</td>\n",
       "      <td>125973</td>\n",
       "      <td>0.12023989267541674</td>\n",
       "      <td>0.31945939045523236</td>\n",
       "      <td>0.0</td>\n",
       "      <td>1.0</td>\n",
       "    </tr>\n",
       "  </tbody>\n",
       "</table>\n",
       "</div>"
      ],
      "text/plain": [
       "                                  0                      1  \\\n",
       "summary                       count                   mean   \n",
       "duration                     125973      287.1446500440571   \n",
       "src_bytes                    125973      45566.74300048423   \n",
       "dst_bytes                    125973     19779.114421344257   \n",
       "wrong_fragment               125973   0.022687401268525795   \n",
       "urgent                       125973  1.1113492573805498E-4   \n",
       "hot                          125973    0.20440888126820828   \n",
       "num_failed_logins            125973  0.0012224841831186047   \n",
       "num_compromised              125973      0.279250315543807   \n",
       "num_root                     125973    0.30219173949973405   \n",
       "num_file_creations           125973   0.012669381534138267   \n",
       "num_shells                   125973  4.1278686702706137E-4   \n",
       "num_access_files             125973   0.004096115834345455   \n",
       "num_outbound_cmds            125973                    0.0   \n",
       "count                        125973       84.1075547934875   \n",
       "srv_count                    125973     27.737888277646796   \n",
       "serror_rate                  125973     0.2844845323998005   \n",
       "srv_serror_rate              125973    0.28248537384995276   \n",
       "rerror_rate                  125973    0.11995848316702784   \n",
       "srv_rerror_rate              125973    0.12118326943075103   \n",
       "same_srv_rate                125973     0.6609276591015496   \n",
       "diff_srv_rate                125973     0.0630526382637572   \n",
       "srv_diff_host_rate           125973    0.09732164828971714   \n",
       "dst_host_count               125973     182.14894461511594   \n",
       "dst_host_srv_count           125973     115.65300500900987   \n",
       "dst_host_same_srv_rate       125973      0.521241694648846   \n",
       "dst_host_diff_srv_rate       125973    0.08295110857090407   \n",
       "dst_host_same_src_port_rate  125973    0.14837885896187675   \n",
       "dst_host_srv_diff_host_rate  125973   0.032542449572522884   \n",
       "dst_host_serror_rate         125973    0.28445246203552144   \n",
       "dst_host_srv_serror_rate     125973    0.27848451652338635   \n",
       "dst_host_rerror_rate         125973    0.11883181316631754   \n",
       "dst_host_srv_rerror_rate     125973    0.12023989267541674   \n",
       "\n",
       "                                                2    3              4  \n",
       "summary                                    stddev  min            max  \n",
       "duration                       2604.5153098675896  0.0        42908.0  \n",
       "src_bytes                       5870331.181893567  0.0  1.379963888E9  \n",
       "dst_bytes                       4021269.151441434  0.0  1.309937401E9  \n",
       "wrong_fragment                 0.2535299859520133  0.0            3.0  \n",
       "urgent                       0.014366026620154248  0.0            3.0  \n",
       "hot                             2.149968433704763  0.0           77.0  \n",
       "num_failed_logins            0.045239138981329786  0.0            5.0  \n",
       "num_compromised                23.942042242795086  0.0         7479.0  \n",
       "num_root                       24.399618088837435  0.0         7468.0  \n",
       "num_file_creations            0.48393506939604275  0.0           43.0  \n",
       "num_shells                   0.022181128678694196  0.0            2.0  \n",
       "num_access_files              0.09936955575066096  0.0            9.0  \n",
       "num_outbound_cmds                             0.0  0.0            0.0  \n",
       "count                          114.50860735418416  0.0          511.0  \n",
       "srv_count                       72.63583964723813  0.0          511.0  \n",
       "serror_rate                    0.4464556243310227  0.0            1.0  \n",
       "srv_serror_rate               0.44702249836401636  0.0            1.0  \n",
       "rerror_rate                   0.32043552074951637  0.0            1.0  \n",
       "srv_rerror_rate                0.3236472280054633  0.0            1.0  \n",
       "same_srv_rate                  0.4396228624074803  0.0            1.0  \n",
       "diff_srv_rate                 0.18031440750857472  0.0            1.0  \n",
       "srv_diff_host_rate             0.2598304981211586  0.0            1.0  \n",
       "dst_host_count                  99.20621303459804  0.0          255.0  \n",
       "dst_host_srv_count             110.70274078086466  0.0          255.0  \n",
       "dst_host_same_srv_rate        0.44894936371767974  0.0            1.0  \n",
       "dst_host_diff_srv_rate        0.18892179990461488  0.0            1.0  \n",
       "dst_host_same_src_port_rate    0.3089971303729867  0.0            1.0  \n",
       "dst_host_srv_diff_host_rate   0.11256380488118978  0.0            1.0  \n",
       "dst_host_serror_rate          0.44478405031649065  0.0            1.0  \n",
       "dst_host_srv_serror_rate       0.4456691238860301  0.0            1.0  \n",
       "dst_host_rerror_rate           0.3065574580251695  0.0            1.0  \n",
       "dst_host_srv_rerror_rate      0.31945939045523236  0.0            1.0  "
      ]
     },
     "execution_count": 19,
     "metadata": {},
     "output_type": "execute_result"
    }
   ],
   "source": [
    "# Numeric columns\n",
    "print(len(numeric_cols))\n",
    "(train_df.select(numeric_cols).describe().toPandas().transpose())"
   ]
  },
  {
   "cell_type": "code",
   "execution_count": 20,
   "metadata": {
    "scrolled": true
   },
   "outputs": [
    {
     "name": "stdout",
     "output_type": "stream",
     "text": [
      "+-------------------------+------+------+\n",
      "|num_outbound_cmds_labels2|attack|normal|\n",
      "+-------------------------+------+------+\n",
      "|                      0.0| 58630| 67343|\n",
      "+-------------------------+------+------+\n",
      "\n"
     ]
    }
   ],
   "source": [
    "(train_df.crosstab('num_outbound_cmds', 'labels2').show())"
   ]
  },
  {
   "cell_type": "markdown",
   "metadata": {},
   "source": [
    "As 'num_outbound_cmds' feature takes only 0.0 values, so it is dropped as redundant."
   ]
  },
  {
   "cell_type": "code",
   "execution_count": 21,
   "metadata": {
    "scrolled": true
   },
   "outputs": [],
   "source": [
    "train_df = train_df.drop('num_outbound_cmds')\n",
    "test_df = test_df.drop('num_outbound_cmds')\n",
    "numeric_cols.remove('num_outbound_cmds')"
   ]
  },
  {
   "cell_type": "markdown",
   "metadata": {},
   "source": [
    "## One Hot Encoding for categorical variables"
   ]
  },
  {
   "cell_type": "markdown",
   "metadata": {},
   "source": [
    "One Hot Encoding (OHE) is used for treating categorical variables. Custom function is created for demonstration purposes. However, it could be easily replaced by PySpark OneHotEncoder."
   ]
  },
  {
   "cell_type": "code",
   "execution_count": 22,
   "metadata": {
    "scrolled": false
   },
   "outputs": [],
   "source": [
    "def ohe_vec(cat_dict, row):\n",
    "    vec = np.zeros(len(cat_dict))\n",
    "    vec[cat_dict[row]] = float(1.0)\n",
    "    return vec.tolist()\n",
    "\n",
    "def ohe(df, nominal_col):\n",
    "    categories = (df.select(nominal_col)\n",
    "                    .distinct()\n",
    "                    .rdd.map(lambda row: row[0])\n",
    "                    .collect())\n",
    "    \n",
    "    cat_dict = dict(zip(categories, range(len(categories))))\n",
    "    \n",
    "    udf_ohe_vec = udf(lambda row: ohe_vec(cat_dict, row), \n",
    "                      StructType([StructField(cat, DoubleType(), False) for cat in categories]))\n",
    "    \n",
    "    df = df.withColumn(nominal_col + '_ohe', udf_ohe_vec(col(nominal_col))).cache()\n",
    "    \n",
    "    nested_cols = [nominal_col + '_ohe.' + cat for cat in categories]\n",
    "    ohe_cols = [nominal_col + '_' + cat for cat in categories]\n",
    "        \n",
    "    for new, old in zip(ohe_cols, nested_cols):\n",
    "        df = df.withColumn(new, col(old))\n",
    "\n",
    "    df = df.drop(nominal_col + '_ohe')\n",
    "                   \n",
    "    return df, ohe_cols"
   ]
  },
  {
   "cell_type": "code",
   "execution_count": 23,
   "metadata": {
    "scrolled": false
   },
   "outputs": [
    {
     "name": "stdout",
     "output_type": "stream",
     "text": [
      "125973\n"
     ]
    }
   ],
   "source": [
    "train_ohe_cols = []\n",
    "\n",
    "train_df, train_ohe_col0 = ohe(train_df, nominal_cols[0])\n",
    "train_ohe_cols += train_ohe_col0\n",
    "\n",
    "train_df, train_ohe_col1 = ohe(train_df, nominal_cols[1])\n",
    "train_ohe_cols += train_ohe_col1\n",
    "\n",
    "train_df, train_ohe_col2 = ohe(train_df, nominal_cols[2])\n",
    "train_ohe_cols += train_ohe_col2\n",
    "\n",
    "binary_cols += train_ohe_cols\n",
    "\n",
    "train_df = train_df.cache()\n",
    "print(train_df.count())"
   ]
  },
  {
   "cell_type": "markdown",
   "metadata": {},
   "source": [
    "Custom list of test binary cols is used as test dataset could contain additional categories for 'service' and 'flag' features. However, those additional categories aren't used below."
   ]
  },
  {
   "cell_type": "code",
   "execution_count": 24,
   "metadata": {
    "scrolled": false
   },
   "outputs": [],
   "source": [
    "test_ohe_cols = []\n",
    "\n",
    "test_df, test_ohe_col0_names = ohe(test_df, nominal_cols[0])\n",
    "test_ohe_cols += test_ohe_col0_names\n",
    "\n",
    "test_df, test_ohe_col1_names = ohe(test_df, nominal_cols[1])\n",
    "test_ohe_cols += test_ohe_col1_names\n",
    "\n",
    "test_df, test_ohe_col2_names = ohe(test_df, nominal_cols[2])\n",
    "test_ohe_cols += test_ohe_col2_names"
   ]
  },
  {
   "cell_type": "code",
   "execution_count": 25,
   "metadata": {},
   "outputs": [
    {
     "name": "stdout",
     "output_type": "stream",
     "text": [
      "22544\n"
     ]
    }
   ],
   "source": [
    "test_binary_cols = col_names[binary_inx].tolist() + test_ohe_cols\n",
    "\n",
    "test_df = test_df.cache()\n",
    "print(test_df.count())"
   ]
  },
  {
   "cell_type": "markdown",
   "metadata": {},
   "source": [
    "## Feature Selection using Attribute Ratio"
   ]
  },
  {
   "cell_type": "markdown",
   "metadata": {},
   "source": [
    "As it is a possible to have 'null' values because binary features could have Frequency(0) = 0, those 'null' values are replaced with 1000.0 (magic number). For NSL KDD dataset it is related only for 'protocol_type_tcp' ohe variable."
   ]
  },
  {
   "cell_type": "code",
   "execution_count": 26,
   "metadata": {
    "scrolled": true
   },
   "outputs": [],
   "source": [
    "def getAttributeRatio(df, numericCols, binaryCols, labelCol):\n",
    "    ratio_dict = {}\n",
    "    \n",
    "    if numericCols:\n",
    "        avg_dict = (df\n",
    "                .select(list(map(lambda c: sql.avg(c).alias(c), numericCols)))\n",
    "                .first()\n",
    "                .asDict())\n",
    "\n",
    "        ratio_dict.update(df\n",
    "                .groupBy(labelCol)\n",
    "                .avg(*numericCols)\n",
    "                .select(list(map(lambda c: sql.max(col('avg(' + c + ')')/avg_dict[c]).alias(c), numericCols)))\n",
    "                .fillna(0.0)\n",
    "                .first()\n",
    "                .asDict())\n",
    "    \n",
    "    if binaryCols:\n",
    "        ratio_dict.update((df\n",
    "                .groupBy(labelCol)\n",
    "                .agg(*list(map(lambda c: (sql.sum(col(c))/(sql.count(col(c)) - sql.sum(col(c)))).alias(c), binaryCols)))\n",
    "                .fillna(1000.0)\n",
    "                .select(*list(map(lambda c: sql.max(col(c)).alias(c), binaryCols)))\n",
    "                .first()\n",
    "                .asDict()))\n",
    "        \n",
    "    return OrderedDict(sorted(ratio_dict.items(), key=lambda v: -v[1]))\n",
    "\n",
    "def selectFeaturesByAR(ar_dict, min_ar):\n",
    "    return [f for f in ar_dict.keys() if ar_dict[f] >= min_ar]"
   ]
  },
  {
   "cell_type": "code",
   "execution_count": 27,
   "metadata": {
    "scrolled": true
   },
   "outputs": [
    {
     "name": "stdout",
     "output_type": "stream",
     "text": [
      "121\n"
     ]
    },
    {
     "data": {
      "text/plain": [
       "OrderedDict([('protocol_type_tcp', 1000.0),\n",
       "             ('num_shells', 326.11353550295854),\n",
       "             ('urgent', 173.03983516483518),\n",
       "             ('num_file_creations', 62.23362492770388),\n",
       "             ('flag_SF', 51.0),\n",
       "             ('num_failed_logins', 46.03855641845592),\n",
       "             ('hot', 40.77451681709518),\n",
       "             ('logged_in', 10.569767441860465),\n",
       "             ('dst_bytes', 9.154854355343401),\n",
       "             ('src_bytes', 8.464064204948945),\n",
       "             ('duration', 7.225829157212557),\n",
       "             ('dst_host_srv_diff_host_rate', 5.7568806827571875),\n",
       "             ('dst_host_diff_srv_rate', 4.837341848972756),\n",
       "             ('num_access_files', 4.694879248658319),\n",
       "             ('dst_host_same_src_port_rate', 4.393080378882988),\n",
       "             ('num_compromised', 4.338539274983927),\n",
       "             ('diff_srv_rate', 4.0690854850700395),\n",
       "             ('dst_host_srv_rerror_rate', 3.6679205279658444),\n",
       "             ('srv_rerror_rate', 3.6677418023254273),\n",
       "             ('rerror_rate', 3.645586087828474),\n",
       "             ('dst_host_rerror_rate', 3.2795669242443357),\n",
       "             ('srv_diff_host_rate', 3.0815657101102487),\n",
       "             ('flag_S0', 2.965034965034965),\n",
       "             ('wrong_fragment', 2.742896335488928),\n",
       "             ('dst_host_srv_serror_rate', 2.6731595957140626),\n",
       "             ('srv_serror_rate', 2.643246318490154),\n",
       "             ('serror_rate', 2.6310546426370203),\n",
       "             ('dst_host_serror_rate', 2.6293396511767804),\n",
       "             ('num_root', 2.6091432537726016),\n",
       "             ('count', 2.1174082949142403),\n",
       "             ('service_telnet', 1.8888888888888888),\n",
       "             ('dst_host_srv_count', 1.6453161847397422),\n",
       "             ('dst_host_same_srv_rate', 1.557578827974383),\n",
       "             ('service_ftp_data', 1.5447570332480818),\n",
       "             ('same_srv_rate', 1.507961200604748),\n",
       "             ('dst_host_count', 1.3428596865228266),\n",
       "             ('service_http', 1.2988666621151088),\n",
       "             ('srv_count', 1.1773191099992069),\n",
       "             ('root_shell', 1.0),\n",
       "             ('service_private', 0.7252812314979278),\n",
       "             ('protocol_type_icmp', 0.5497939103842574),\n",
       "             ('service_eco_i', 0.5403726708074534),\n",
       "             ('is_guest_login', 0.45894428152492667),\n",
       "             ('service_ftp', 0.4568081991215227),\n",
       "             ('flag_REJ', 0.3265050642995334),\n",
       "             ('flag_RSTR', 0.23005487547488393),\n",
       "             ('protocol_type_udp', 0.22644739478045495),\n",
       "             ('service_other', 0.16945921541085582),\n",
       "             ('service_domain_u', 0.15493320070658045),\n",
       "             ('service_smtp', 0.11654010677454654),\n",
       "             ('service_ecr_i', 0.06601211614790056),\n",
       "             ('flag_RSTO', 0.04847207586933614),\n",
       "             ('service_finger', 0.026095310440358364),\n",
       "             ('flag_SH', 0.02326398033535247),\n",
       "             ('service_Z39_50', 0.018879226195758277),\n",
       "             ('service_uucp', 0.01702909783427078),\n",
       "             ('service_courier', 0.0160615915577089),\n",
       "             ('service_auth', 0.015544843445957898),\n",
       "             ('service_bgp', 0.0154550278588485),\n",
       "             ('service_uucp_path', 0.014938896377980597),\n",
       "             ('service_iso_tsap', 0.014916467780429593),\n",
       "             ('service_whois', 0.014804339660163068),\n",
       "             ('service_nnsp', 0.013729168965897804),\n",
       "             ('service_imap4', 0.013729168965897804),\n",
       "             ('service_vmnet', 0.013371284834844774),\n",
       "             ('service_time', 0.012142983074753174),\n",
       "             ('service_ctf', 0.011853092158893123),\n",
       "             ('service_csnet_ns', 0.011741639864299247),\n",
       "             ('service_supdup', 0.011630212119209674),\n",
       "             ('service_http_443', 0.011518808915514052),\n",
       "             ('service_discard', 0.011451978769793203),\n",
       "             ('service_domain', 0.011184746471740902),\n",
       "             ('service_daytime', 0.01107344135258894),\n",
       "             ('service_gopher', 0.010672945733022314),\n",
       "             ('service_efs', 0.010517283108539242),\n",
       "             ('service_exec', 0.010228322555100963),\n",
       "             ('service_systat', 0.010117227879561),\n",
       "             ('service_link', 0.009983946517713808),\n",
       "             ('service_hostnames', 0.00982849604221636),\n",
       "             ('service_name', 0.009406800149453835),\n",
       "             ('service_klogin', 0.009340248780273395),\n",
       "             ('service_login', 0.009229349330872173),\n",
       "             ('service_mtp', 0.009140647316033486),\n",
       "             ('service_echo', 0.009140647316033486),\n",
       "             ('service_urp_i', 0.0089745894762076),\n",
       "             ('flag_RSTOS0', 0.008915433220808448),\n",
       "             ('service_ldap', 0.008852473420613302),\n",
       "             ('service_netbios_dgm', 0.008608762490392005),\n",
       "             ('service_sunrpc', 0.00809956538917424),\n",
       "             ('service_netbios_ssn', 0.007657203036552723),\n",
       "             ('service_netstat', 0.0075466731018142726),\n",
       "             ('service_netbios_ns', 0.007369875633348687),\n",
       "             ('service_kshell', 0.006398597567656404),\n",
       "             ('service_nntp', 0.006156070630504316),\n",
       "             ('service_ssh', 0.006156070630504316),\n",
       "             ('flag_S1', 0.005389507628915231),\n",
       "             ('service_sql_net', 0.005099137742373178),\n",
       "             ('flag_S3', 0.0030241935483870967),\n",
       "             ('flag_OTH', 0.0030117890026675844),\n",
       "             ('service_pop_3', 0.0027696293759399615),\n",
       "             ('service_IRC', 0.0027696293759399615),\n",
       "             ('service_ntp_u', 0.0025009304056568663),\n",
       "             ('flag_S2', 0.0017702011186481019),\n",
       "             ('service_remote_job', 0.0015466575012888812),\n",
       "             ('service_rje', 0.0015466575012888812),\n",
       "             ('service_pop_2', 0.0015264845061822622),\n",
       "             ('service_printer', 0.0013517933064428214),\n",
       "             ('service_shell', 0.0011553385359898854),\n",
       "             ('su_attempted', 0.001006036217303823),\n",
       "             ('service_X11', 0.0009958974968785302),\n",
       "             ('service_pm_dump', 0.0004291477126426916),\n",
       "             ('land', 0.00039207998431680063),\n",
       "             ('service_harvest', 0.00017161489617298782),\n",
       "             ('service_aol', 0.00017161489617298782),\n",
       "             ('service_http_8001', 0.00017161489617298782),\n",
       "             ('service_urh_i', 0.0001485155867108253),\n",
       "             ('service_red_i', 0.00011880894037276305),\n",
       "             ('service_http_2784', 8.58000858000858e-05),\n",
       "             ('service_tim_i', 7.425227954498203e-05),\n",
       "             ('service_tftp_u', 4.455004455004455e-05),\n",
       "             ('is_host_login', 1.4849573817231445e-05)])"
      ]
     },
     "execution_count": 27,
     "metadata": {},
     "output_type": "execute_result"
    }
   ],
   "source": [
    "ar_dict = getAttributeRatio(train_df, numeric_cols, binary_cols, 'labels5')\n",
    "\n",
    "print(len(ar_dict))\n",
    "ar_dict"
   ]
  },
  {
   "cell_type": "markdown",
   "metadata": {},
   "source": [
    "## Data preparation"
   ]
  },
  {
   "cell_type": "markdown",
   "metadata": {},
   "source": [
    "Standartization is necessary as a lot of distance based algorithms are used below. Custom standartization is created for demonstration purposes, so it could be easily replaced by PySpark StandardScaler. Note that data is sparse, so it is reasonable to not substract mean for avoiding violating sparsity. "
   ]
  },
  {
   "cell_type": "code",
   "execution_count": 28,
   "metadata": {
    "scrolled": true
   },
   "outputs": [
    {
     "name": "stdout",
     "output_type": "stream",
     "text": [
      "125973\n",
      "22544\n"
     ]
    }
   ],
   "source": [
    "avg_dict = (train_df.select(list(map(lambda c: sql.avg(c).alias(c), numeric_cols))).first().asDict())\n",
    "std_dict = (train_df.select(list(map(lambda c: sql.stddev(c).alias(c), numeric_cols))).first().asDict())\n",
    "\n",
    "def standardizer(column):\n",
    "    return ((col(column) - avg_dict[column])/std_dict[column]).alias(column)\n",
    "\n",
    "# Standardizer without mean\n",
    "# def standardizer(column):\n",
    "#     return (col(column)/std_dict[column]).alias(column)\n",
    "\n",
    "train_scaler = [*binary_cols, *list(map(standardizer, numeric_cols)), *['id', 'labels2_index', 'labels2', 'labels5_index', 'labels5']]\n",
    "test_scaler = [*test_binary_cols, *list(map(standardizer, numeric_cols)), *['id', 'labels2_index', 'labels2', 'labels5_index', 'labels5']]\n",
    "\n",
    "scaled_train_df = (train_df.select(train_scaler).cache())\n",
    "scaled_test_df = (test_df.select(test_scaler).cache())\n",
    "\n",
    "print(scaled_train_df.count())\n",
    "print(scaled_test_df.count())"
   ]
  },
  {
   "cell_type": "markdown",
   "metadata": {},
   "source": [
    "VectorAssembler is used for combining a given list of columns into a single vector column. Then VectorIndexer is used for indexing categorical (binary) features. Indexing categorical features allows algorithms to treat them appropriately, improving performance."
   ]
  },
  {
   "cell_type": "code",
   "execution_count": 29,
   "metadata": {
    "scrolled": true
   },
   "outputs": [],
   "source": [
    "from pyspark.ml.feature import VectorIndexer, VectorAssembler\n",
    "assembler = VectorAssembler(inputCols=selectFeaturesByAR(ar_dict, 0.01), outputCol='raw_features')\n",
    "indexer = VectorIndexer(inputCol='raw_features', outputCol='indexed_features', maxCategories=2)\n",
    "\n",
    "prep_pipeline = Pipeline(stages=[assembler, indexer])\n",
    "prep_model = prep_pipeline.fit(scaled_train_df)"
   ]
  },
  {
   "cell_type": "code",
   "execution_count": 30,
   "metadata": {
    "scrolled": true
   },
   "outputs": [
    {
     "name": "stdout",
     "output_type": "stream",
     "text": [
      "125973\n",
      "22544\n"
     ]
    }
   ],
   "source": [
    "scaled_train_df = (prep_model\n",
    "        .transform(scaled_train_df)\n",
    "        .select('id', 'indexed_features', 'labels2_index', 'labels2', 'labels5_index', 'labels5')\n",
    "        .cache())\n",
    "\n",
    "scaled_test_df = (prep_model \n",
    "        .transform(scaled_test_df)\n",
    "        .select('id', 'indexed_features','labels2_index', 'labels2', 'labels5_index', 'labels5')\n",
    "        .cache())\n",
    "\n",
    "print(scaled_train_df.count())\n",
    "print(scaled_test_df.count())"
   ]
  },
  {
   "cell_type": "code",
   "execution_count": 31,
   "metadata": {},
   "outputs": [
    {
     "name": "stdout",
     "output_type": "stream",
     "text": [
      "4667979835606274383\n"
     ]
    }
   ],
   "source": [
    "# Setting seed for reproducibility\n",
    "seed = 4667979835606274383\n",
    "print(seed)"
   ]
  },
  {
   "cell_type": "markdown",
   "metadata": {},
   "source": [
    "The train dataset is splitted into 80% train and 20% cross-validation sets."
   ]
  },
  {
   "cell_type": "code",
   "execution_count": 32,
   "metadata": {
    "scrolled": true
   },
   "outputs": [
    {
     "name": "stdout",
     "output_type": "stream",
     "text": [
      "100868\n",
      "25105\n"
     ]
    }
   ],
   "source": [
    "split = (scaled_train_df.randomSplit([0.8, 0.2], seed=seed))\n",
    "\n",
    "scaled_train_df = split[0].cache()\n",
    "scaled_cv_df = split[1].cache()\n",
    "\n",
    "print(scaled_train_df.count())\n",
    "print(scaled_cv_df.count())"
   ]
  },
  {
   "cell_type": "markdown",
   "metadata": {},
   "source": [
    "Additional \"result\" dataframes are used to collect probabilities and predictions from different approaches."
   ]
  },
  {
   "cell_type": "code",
   "execution_count": 33,
   "metadata": {
    "scrolled": true
   },
   "outputs": [
    {
     "name": "stdout",
     "output_type": "stream",
     "text": [
      "25105\n",
      "22544\n"
     ]
    }
   ],
   "source": [
    "res_cv_df = scaled_cv_df.select(col('id'), col('labels2_index'), col('labels2'), col('labels5')).cache()\n",
    "res_test_df = scaled_test_df.select(col('id'), col('labels2_index'), col('labels2'), col('labels5')).cache()\n",
    "prob_cols = []\n",
    "pred_cols = []\n",
    "\n",
    "print(res_cv_df.count())\n",
    "print(res_test_df.count())"
   ]
  },
  {
   "cell_type": "markdown",
   "metadata": {},
   "source": [
    "Different metrics from sklearn are used for evaluating results. The most important from them for this task are False positive Rate, Detection Rate and F1 score. \n",
    "As evaluating via sklearn requires to collect predicted and label columns to the driver, it will be replaced with PySpark metrics later."
   ]
  },
  {
   "cell_type": "code",
   "execution_count": 34,
   "metadata": {
    "scrolled": true
   },
   "outputs": [],
   "source": [
    "import sklearn.metrics as metrics\n",
    "\n",
    "def printCM(cm, labels):\n",
    "    \"\"\"pretty print for confusion matrixes\"\"\"\n",
    "    columnwidth = max([len(x) for x in labels])\n",
    "    # Print header\n",
    "    print(\" \" * columnwidth, end=\"\\t\")\n",
    "    for label in labels:\n",
    "        print(\"%{0}s\".format(columnwidth) % label, end=\"\\t\")\n",
    "    print()\n",
    "    # Print rows\n",
    "    for i, label1 in enumerate(labels):\n",
    "        print(\"%{0}s\".format(columnwidth) % label1, end=\"\\t\")\n",
    "        for j in range(len(labels)):\n",
    "            print(\"%{0}d\".format(columnwidth) % cm[i, j], end=\"\\t\")\n",
    "        print()\n",
    "\n",
    "def getPrediction(e):\n",
    "    return udf(lambda row: 1.0 if row >= e else 0.0, DoubleType())\n",
    "        \n",
    "def printReport(resDF, probCol, labelCol='labels2_index', e=None, labels=['normal', 'attack']):\n",
    "    if (e):\n",
    "        predictionAndLabels = list(zip(*resDF.rdd\n",
    "                                       .map(lambda row: (1.0 if row[probCol] >= e else 0.0, row[labelCol]))\n",
    "                                       .collect()))\n",
    "    else:\n",
    "        predictionAndLabels = list(zip(*resDF.rdd\n",
    "                                       .map(lambda row: (row[probCol], row[labelCol]))\n",
    "                                       .collect()))\n",
    "    \n",
    "    cm = metrics.confusion_matrix(predictionAndLabels[1], predictionAndLabels[0])\n",
    "    printCM(cm, labels)\n",
    "    print(\" \")\n",
    "    print(\"Accuracy = %g\" % (metrics.accuracy_score(predictionAndLabels[1], predictionAndLabels[0])))\n",
    "    print(\"AUC = %g\" % (metrics.roc_auc_score(predictionAndLabels[1], predictionAndLabels[0])))\n",
    "    print(\" \")\n",
    "    print(\"False Alarm Rate = %g\" % (cm[0][1]/(cm[0][0] + cm[0][1])))\n",
    "    print(\"Detection Rate = %g\" % (cm[1][1]/(cm[1][1] + cm[1][0])))\n",
    "    print(\"F1 score = %g\" % (metrics.f1_score(predictionAndLabels[1], predictionAndLabels[0], labels)))\n",
    "    print(\" \")\n",
    "    print(metrics.classification_report(predictionAndLabels[1], predictionAndLabels[0]))\n",
    "    print(\" \")"
   ]
  },
  {
   "cell_type": "markdown",
   "metadata": {},
   "source": [
    "## Visualization via PCA"
   ]
  },
  {
   "cell_type": "markdown",
   "metadata": {},
   "source": [
    "PCA algorithm is used for visualization purposes.\n",
    "\n",
    "First graph shows 'attack' vs 'normal' labels, second graph shows 4 different types of attacks vs normal connections."
   ]
  },
  {
   "cell_type": "code",
   "execution_count": 35,
   "metadata": {
    "scrolled": true
   },
   "outputs": [],
   "source": [
    "from pyspark.ml.feature import VectorSlicer\n",
    "from pyspark.ml.feature import PCA\n",
    "\n",
    "pca_slicer = VectorSlicer(inputCol=\"indexed_features\", outputCol=\"features\", names=selectFeaturesByAR(ar_dict, 0.05))\n",
    "\n",
    "pca = PCA(k=2, inputCol=\"features\", outputCol=\"pca_features\")\n",
    "pca_pipeline = Pipeline(stages=[pca_slicer, pca])\n",
    "\n",
    "pca_train_df = pca_pipeline.fit(scaled_train_df).transform(scaled_train_df)"
   ]
  },
  {
   "cell_type": "code",
   "execution_count": 36,
   "metadata": {
    "scrolled": true
   },
   "outputs": [
    {
     "data": {
      "image/png": "[encoded data removed]",
      "text/plain": [
       "<Figure size 432x288 with 1 Axes>"
      ]
     },
     "metadata": {
      "needs_background": "light"
     },
     "output_type": "display_data"
    },
    {
     "data": {
      "image/png": "[encoded data removed]",
      "text/plain": [
       "<Figure size 432x288 with 1 Axes>"
      ]
     },
     "metadata": {
      "needs_background": "light"
     },
     "output_type": "display_data"
    }
   ],
   "source": [
    "viz_train_data = np.array(pca_train_df.rdd.map(lambda row: [*row['pca_features'], row['labels2_index'], row['labels5_index']]).collect())\n",
    "plt.figure()\n",
    "plt.scatter(x=viz_train_data[:,0], y=viz_train_data[:,1], c=viz_train_data[:,2], cmap=\"Set1\")\n",
    "plt.figure()\n",
    "plt.scatter(x=viz_train_data[:,0], y=viz_train_data[:,1], c=viz_train_data[:,3], cmap=\"Set1\")\n",
    "plt.show()"
   ]
  },
  {
   "cell_type": "markdown",
   "metadata": {},
   "source": [
    "## KMeans clustering with Random Forest Classifiers"
   ]
  },
  {
   "cell_type": "markdown",
   "metadata": {},
   "source": [
    "The idea of the first approach is to clusterize data into clusters and then train different Random Forest classifiers for each of the clusters. As Random Forest returns probabilities, it is possible to improve detection rate for a new types of attacks by adjusting threshold."
   ]
  },
  {
   "cell_type": "markdown",
   "metadata": {},
   "source": [
    "As KMeans cannot truly handle binary/categorical features only numeric features are used for clusterization."
   ]
  },
  {
   "cell_type": "code",
   "execution_count": 37,
   "metadata": {
    "scrolled": true
   },
   "outputs": [],
   "source": [
    "kmeans_prob_col = 'kmeans_rf_prob'\n",
    "kmeans_pred_col = 'kmeans_rf_pred'\n",
    "\n",
    "prob_cols.append(kmeans_prob_col)\n",
    "pred_cols.append(kmeans_pred_col)"
   ]
  },
  {
   "cell_type": "code",
   "execution_count": 38,
   "metadata": {
    "scrolled": false
   },
   "outputs": [],
   "source": [
    "# KMeans clustrering\n",
    "from pyspark.ml.clustering import KMeans\n",
    "\n",
    "kmeans_slicer = VectorSlicer(inputCol=\"indexed_features\", outputCol=\"features\", \n",
    "                             names=list(set(selectFeaturesByAR(ar_dict, 0.1)).intersection(numeric_cols)))\n",
    "\n",
    "kmeans = KMeans(k=8, initSteps=25, maxIter=100, featuresCol=\"features\", predictionCol=\"cluster\", seed=seed)\n",
    "\n",
    "kmeans_pipeline = Pipeline(stages=[kmeans_slicer, kmeans])\n",
    "\n",
    "kmeans_model = kmeans_pipeline.fit(scaled_train_df)\n",
    "\n",
    "kmeans_train_df = kmeans_model.transform(scaled_train_df).cache()\n",
    "kmeans_cv_df = kmeans_model.transform(scaled_cv_df).cache()\n",
    "kmeans_test_df = kmeans_model.transform(scaled_test_df).cache()"
   ]
  },
  {
   "cell_type": "code",
   "execution_count": 39,
   "metadata": {
    "scrolled": false
   },
   "outputs": [],
   "source": [
    "# Function for describing the contents of the clusters \n",
    "def getClusterCrosstab(df, clusterCol='cluster'):\n",
    "    return (df.crosstab(clusterCol, 'labels2')\n",
    "              .withColumn('count', col('attack') + col('normal'))\n",
    "              .withColumn(clusterCol + '_labels2', col(clusterCol + '_labels2').cast('int'))\n",
    "              .sort(col(clusterCol +'_labels2').asc()))"
   ]
  },
  {
   "cell_type": "code",
   "execution_count": 40,
   "metadata": {
    "scrolled": false
   },
   "outputs": [
    {
     "name": "stdout",
     "output_type": "stream",
     "text": [
      "+---------------+------+------+-----+\n",
      "|cluster_labels2|attack|normal|count|\n",
      "+---------------+------+------+-----+\n",
      "|              0| 27850|   104|27954|\n",
      "|              1|     0|     2|    2|\n",
      "|              2|  3456|   482| 3938|\n",
      "|              3|  1852|  2959| 4811|\n",
      "|              4|   722|     0|  722|\n",
      "|              5|    38|    55|   93|\n",
      "|              6|  3375| 47911|51286|\n",
      "|              7|  9820|  2242|12062|\n",
      "+---------------+------+------+-----+\n",
      "\n"
     ]
    }
   ],
   "source": [
    "kmeans_crosstab = getClusterCrosstab(kmeans_train_df).cache()\n",
    "kmeans_crosstab.show(n=30)"
   ]
  },
  {
   "cell_type": "markdown",
   "metadata": {},
   "source": [
    "Clustres are splitted into two categories. Frist category contains clusters that have both 'attack' and 'normal' connections and have more than 25 connections. For the first category Random Forest classifiers are aplied. Second category contains all other clusters and maps cluster to 'attack' or 'normal' based on majority. All clusters that contains less or equal than 25 connections are treated as outliers and are mapped to 'attack' type."
   ]
  },
  {
   "cell_type": "code",
   "execution_count": 41,
   "metadata": {
    "scrolled": false
   },
   "outputs": [
    {
     "name": "stdout",
     "output_type": "stream",
     "text": [
      "6 2\n",
      "{1: 1.0, 4: 1.0}\n"
     ]
    },
    {
     "data": {
      "text/plain": [
       "{0: [27954, 0.9962796022036202],\n",
       " 2: [3938, 0.877602844083291],\n",
       " 3: [4811, 0.3849511536063189],\n",
       " 5: [93, 0.40860215053763443],\n",
       " 6: [51286, 0.06580743282767226],\n",
       " 7: [12062, 0.8141270104460289]}"
      ]
     },
     "execution_count": 41,
     "metadata": {},
     "output_type": "execute_result"
    }
   ],
   "source": [
    "# Function for splitting clusters\n",
    "def splitClusters(crosstab):\n",
    "    exp = ((col('count') > 25) & (col('attack') > 0) & (col('normal') > 0))\n",
    "\n",
    "    cluster_rf = (crosstab\n",
    "        .filter(exp).rdd\n",
    "        .map(lambda row: (int(row['cluster_labels2']), [row['count'], row['attack']/row['count']]))\n",
    "        .collectAsMap())\n",
    "\n",
    "    cluster_mapping = (crosstab\n",
    "        .filter(~exp).rdd\n",
    "        .map(lambda row: (int(row['cluster_labels2']), 1.0 if (row['count'] <= 25) | (row['normal'] == 0) else 0.0))\n",
    "        .collectAsMap())\n",
    "    \n",
    "    return cluster_rf, cluster_mapping\n",
    "\n",
    "kmeans_cluster_rf, kmeans_cluster_mapping = splitClusters(kmeans_crosstab)\n",
    "\n",
    "print(len(kmeans_cluster_rf), len(kmeans_cluster_mapping))\n",
    "print(kmeans_cluster_mapping)\n",
    "kmeans_cluster_rf"
   ]
  },
  {
   "cell_type": "code",
   "execution_count": 42,
   "metadata": {
    "scrolled": false
   },
   "outputs": [],
   "source": [
    "from pyspark.ml.classification import RandomForestClassifier\n",
    "\n",
    "# This function returns Random Forest models for provided clusters\n",
    "def getClusterModels(df, cluster_rf):\n",
    "    cluster_models = {}\n",
    "\n",
    "    labels_col = 'labels2_cl_index'\n",
    "    labels2_indexer.setOutputCol(labels_col)\n",
    "\n",
    "    rf_slicer = VectorSlicer(inputCol=\"indexed_features\", outputCol=\"rf_features\", \n",
    "                             names=selectFeaturesByAR(ar_dict, 0.05))\n",
    "\n",
    "    for cluster in cluster_rf.keys():\n",
    "        t1 = time()\n",
    "        rf_classifier = RandomForestClassifier(labelCol=labels_col, featuresCol='rf_features', seed=seed,\n",
    "                                               numTrees=500, maxDepth=20, featureSubsetStrategy=\"sqrt\")\n",
    "        \n",
    "        rf_pipeline = Pipeline(stages=[labels2_indexer, rf_slicer, rf_classifier])\n",
    "        cluster_models[cluster] = rf_pipeline.fit(df.filter(col('cluster') == cluster))\n",
    "        print(\"Finished %g cluster in %g ms\" % (cluster, time() - t1))\n",
    "        \n",
    "    return cluster_models"
   ]
  },
  {
   "cell_type": "code",
   "execution_count": 43,
   "metadata": {
    "scrolled": true
   },
   "outputs": [],
   "source": [
    "# This utility function helps to get predictions/probabilities for the new data and return them into one dataframe\n",
    "def getProbabilities(df, probCol, cluster_mapping, cluster_models):\n",
    "    pred_df = (sqlContext.createDataFrame([], StructType([\n",
    "                    StructField('id', LongType(), False),\n",
    "                    StructField(probCol, DoubleType(), False)])))\n",
    "    \n",
    "    udf_map = udf(lambda cluster: cluster_mapping[cluster], DoubleType())\n",
    "    pred_df = pred_df.union(df.filter(col('cluster').isin(list(cluster_mapping.keys())))\n",
    "                            .withColumn(probCol, udf_map(col('cluster')))\n",
    "                            .select('id', probCol))\n",
    "\n",
    "                                       \n",
    "    for k in cluster_models.keys():\n",
    "        maj_label = cluster_models[k].stages[0].labels[0]\n",
    "        udf_remap_prob = udf(lambda row: float(row[0]) if (maj_label == 'attack') else float(row[1]), DoubleType())\n",
    "\n",
    "        pred_df = pred_df.union(cluster_models[k]\n",
    "                         .transform(df.filter(col('cluster') == k))\n",
    "                         .withColumn(probCol, udf_remap_prob(col('probability')))\n",
    "                         .select('id', probCol))\n",
    "\n",
    "    return pred_df"
   ]
  },
  {
   "cell_type": "code",
   "execution_count": 44,
   "metadata": {
    "scrolled": false
   },
   "outputs": [
    {
     "name": "stdout",
     "output_type": "stream",
     "text": [
      "Finished 0 cluster in 54.6705 ms\n",
      "Finished 2 cluster in 25.383 ms\n",
      "Finished 3 cluster in 8.22952 ms\n",
      "Finished 5 cluster in 2.78168 ms\n",
      "Finished 6 cluster in 598.828 ms\n",
      "Finished 7 cluster in 70.6129 ms\n"
     ]
    }
   ],
   "source": [
    "# Training Random Forest classifiers for each of the clusters\n",
    "kmeans_cluster_models = getClusterModels(kmeans_train_df, kmeans_cluster_rf)"
   ]
  },
  {
   "cell_type": "code",
   "execution_count": 45,
   "metadata": {
    "scrolled": true
   },
   "outputs": [
    {
     "name": "stdout",
     "output_type": "stream",
     "text": [
      "25105\n"
     ]
    }
   ],
   "source": [
    "# Getting probabilities for CV data\n",
    "res_cv_df = (res_cv_df.drop(kmeans_prob_col)\n",
    "             .join(getProbabilities(kmeans_cv_df, kmeans_prob_col, kmeans_cluster_mapping, kmeans_cluster_models), 'id')\n",
    "             .cache())\n",
    "\n",
    "print(res_cv_df.count())"
   ]
  },
  {
   "cell_type": "code",
   "execution_count": 46,
   "metadata": {
    "scrolled": true
   },
   "outputs": [
    {
     "name": "stdout",
     "output_type": "stream",
     "text": [
      "22544\n"
     ]
    }
   ],
   "source": [
    "# Getting probabilities for Test data\n",
    "res_test_df = (res_test_df.drop(kmeans_prob_col)\n",
    "               .join(getProbabilities(kmeans_test_df, kmeans_prob_col, kmeans_cluster_mapping, kmeans_cluster_models), 'id')\n",
    "               .cache())\n",
    "\n",
    "print(res_test_df.count())"
   ]
  },
  {
   "cell_type": "markdown",
   "metadata": {},
   "source": [
    "As CV data is from the same distribution as the train data it isn't needed to adjust threshold."
   ]
  },
  {
   "cell_type": "code",
   "execution_count": 46,
   "metadata": {
    "scrolled": true
   },
   "outputs": [
    {
     "name": "stdout",
     "output_type": "stream",
     "text": [
      "      \tnormal\tattack\t\n",
      "normal\t 13316\t    12\t\n",
      "attack\t    26\t 11779\t\n",
      " \n",
      "Accuracy = 0.998488\n",
      "AUC = 0.998449\n",
      " \n",
      "False Alarm Rate = 0.00090036\n",
      "Detection Rate = 0.997798\n",
      "F1 score = 0.99839\n",
      " \n",
      "             precision    recall  f1-score   support\n",
      "\n",
      "        0.0       1.00      1.00      1.00     13328\n",
      "        1.0       1.00      1.00      1.00     11805\n",
      "\n",
      "avg / total       1.00      1.00      1.00     25133\n",
      "\n",
      " \n"
     ]
    }
   ],
   "source": [
    "printReport(res_cv_df, kmeans_prob_col, e=0.5, labels=labels2)"
   ]
  },
  {
   "cell_type": "markdown",
   "metadata": {},
   "source": [
    "Because test data is from the different distribution and it is expected to face unseen attack types, it makes sence to adjust a probability threshold to something like 0.01 for attack connections (0.99 for normal connections). For this approach it gives around ~98-99% Detection Rate with around ~14-15% of False Alarm Rate."
   ]
  },
  {
   "cell_type": "code",
   "execution_count": 47,
   "metadata": {
    "scrolled": false
   },
   "outputs": [
    {
     "name": "stdout",
     "output_type": "stream",
     "text": [
      "      \tnormal\tattack\t\n",
      "normal\t  8262\t  1449\t\n",
      "attack\t   182\t 12651\t\n",
      " \n",
      "Accuracy = 0.927653\n",
      "AUC = 0.918303\n",
      " \n",
      "False Alarm Rate = 0.149212\n",
      "Detection Rate = 0.985818\n",
      "F1 score = 0.939442\n",
      " \n",
      "             precision    recall  f1-score   support\n",
      "\n",
      "        0.0       0.98      0.85      0.91      9711\n",
      "        1.0       0.90      0.99      0.94     12833\n",
      "\n",
      "avg / total       0.93      0.93      0.93     22544\n",
      "\n",
      " \n"
     ]
    }
   ],
   "source": [
    "printReport(res_test_df, kmeans_prob_col, e=0.01, labels=labels2)"
   ]
  },
  {
   "cell_type": "code",
   "execution_count": 48,
   "metadata": {
    "scrolled": false
   },
   "outputs": [
    {
     "name": "stdout",
     "output_type": "stream",
     "text": [
      "25133\n",
      "22544\n",
      "16.63809633255005\n"
     ]
    }
   ],
   "source": [
    "# Adding prediction columns based on chosen thresholds into result dataframes\n",
    "t0 = time()\n",
    "res_cv_df = res_cv_df.withColumn(kmeans_pred_col, getPrediction(0.5)(col(kmeans_prob_col))).cache()\n",
    "res_test_df = res_test_df.withColumn(kmeans_pred_col, getPrediction(0.01)(col(kmeans_prob_col))).cache()\n",
    "\n",
    "print(res_cv_df.count())\n",
    "print(res_test_df.count())\n",
    "print(time() - t0)"
   ]
  },
  {
   "cell_type": "markdown",
   "metadata": {},
   "source": [
    "## Supervised approach for dettecting each type of attacks separately"
   ]
  },
  {
   "cell_type": "markdown",
   "metadata": {},
   "source": [
    "The idea of the following approach is training Random Forest Classifiers for each of four major 'attack' categories separately."
   ]
  },
  {
   "cell_type": "markdown",
   "metadata": {},
   "source": [
    "### 1 DoS and normal"
   ]
  },
  {
   "cell_type": "code",
   "execution_count": 47,
   "metadata": {
    "scrolled": true
   },
   "outputs": [],
   "source": [
    "dos_prob_col = 'dos_prob'\n",
    "dos_pred_col = 'dos_pred'\n",
    "\n",
    "prob_cols.append(dos_prob_col)\n",
    "pred_cols.append(dos_pred_col)"
   ]
  },
  {
   "cell_type": "code",
   "execution_count": 48,
   "metadata": {
    "scrolled": false
   },
   "outputs": [
    {
     "name": "stdout",
     "output_type": "stream",
     "text": [
      "90625\n",
      "+-------+-----+\n",
      "|labels5|count|\n",
      "+-------+-----+\n",
      "| normal|53755|\n",
      "|    DoS|36870|\n",
      "+-------+-----+\n",
      "\n"
     ]
    }
   ],
   "source": [
    "dos_exp = (col('labels5') == 'DoS') | (col('labels5') == 'normal')\n",
    "dos_train_df = (scaled_train_df.filter(dos_exp).cache())\n",
    "\n",
    "print(dos_train_df.count())\n",
    "(dos_train_df\n",
    "     .groupby('labels5')\n",
    "     .count()\n",
    "     .sort(sql.desc('count'))\n",
    "     .show())"
   ]
  },
  {
   "cell_type": "markdown",
   "metadata": {},
   "source": [
    "Diffirent AR feature selection is used as only normal and DoS connections are treated. Note that train dataframe without standartization is used for getting Attribute Ratio dictionary."
   ]
  },
  {
   "cell_type": "code",
   "execution_count": 49,
   "metadata": {
    "scrolled": true
   },
   "outputs": [
    {
     "data": {
      "text/plain": [
       "OrderedDict([('flag_SF', 16.04886075949367),\n",
       "             ('protocol_type_tcp', 11.283230810377106),\n",
       "             ('flag_S0', 2.965034965034965),\n",
       "             ('wrong_fragment', 2.4663052235068696),\n",
       "             ('logged_in', 2.4559683875603),\n",
       "             ('dst_host_srv_serror_rate', 2.4369460592635868),\n",
       "             ('srv_serror_rate', 2.4091388710886803),\n",
       "             ('serror_rate', 2.4030314967240214),\n",
       "             ('dst_host_serror_rate', 2.400741230991562),\n",
       "             ('count', 2.0805650842389314),\n",
       "             ('rerror_rate', 1.729470874459903),\n",
       "             ('srv_rerror_rate', 1.7274542811973752),\n",
       "             ('dst_host_srv_rerror_rate', 1.7208022988464353),\n",
       "             ('dst_host_rerror_rate', 1.720418433224073),\n",
       "             ('num_failed_logins', 1.6819862494988345),\n",
       "             ('num_root', 1.6819862494988345),\n",
       "             ('urgent', 1.6819862494988342),\n",
       "             ('num_file_creations', 1.6819862494988342),\n",
       "             ('num_shells', 1.6819862494988342),\n",
       "             ('num_access_files', 1.6819862494988342),\n",
       "             ('duration', 1.6819438793516928),\n",
       "             ('num_compromised', 1.639589690499449),\n",
       "             ('dst_bytes', 1.6383223072580753),\n",
       "             ('srv_diff_host_rate', 1.6350272522940128),\n",
       "             ('dst_host_srv_diff_host_rate', 1.6123221582570744),\n",
       "             ('src_bytes', 1.585158247265785),\n",
       "             ('dst_host_srv_count', 1.5359730763294566),\n",
       "             ('dst_host_same_srv_rate', 1.523983808504688),\n",
       "             ('hot', 1.5045374266320413),\n",
       "             ('diff_srv_rate', 1.4988971605163373),\n",
       "             ('same_srv_rate', 1.481925384968711),\n",
       "             ('dst_host_same_src_port_rate', 1.316843715800338),\n",
       "             ('dst_host_count', 1.30921165492205),\n",
       "             ('dst_host_diff_srv_rate', 1.3068775153416468),\n",
       "             ('service_http', 1.2988666621151088),\n",
       "             ('srv_count', 1.0994997402557993),\n",
       "             ('service_private', 0.5331486179730272),\n",
       "             ('protocol_type_udp', 0.22644739478045495),\n",
       "             ('service_domain_u', 0.15493320070658045),\n",
       "             ('flag_REJ', 0.14087341017488075),\n",
       "             ('service_smtp', 0.11654010677454654),\n",
       "             ('service_ftp_data', 0.07992430924164916),\n",
       "             ('protocol_type_icmp', 0.06608635097493036),\n",
       "             ('service_ecr_i', 0.06601211614790056),\n",
       "             ('service_other', 0.04022304947558659),\n",
       "             ('service_telnet', 0.02940715006163846),\n",
       "             ('flag_RSTO', 0.02719688667218358),\n",
       "             ('service_finger', 0.026095310440358364),\n",
       "             ('service_Z39_50', 0.018879226195758277),\n",
       "             ('service_uucp', 0.01702909783427078),\n",
       "             ('service_courier', 0.0160615915577089),\n",
       "             ('service_auth', 0.015544843445957898),\n",
       "             ('service_bgp', 0.0154550278588485),\n",
       "             ('service_uucp_path', 0.014938896377980597),\n",
       "             ('service_iso_tsap', 0.014916467780429593),\n",
       "             ('service_whois', 0.014804339660163068),\n",
       "             ('service_ftp', 0.013820097854723372),\n",
       "             ('service_nnsp', 0.013729168965897804),\n",
       "             ('service_imap4', 0.013729168965897804),\n",
       "             ('service_vmnet', 0.013371284834844774),\n",
       "             ('is_guest_login', 0.013133744546411915),\n",
       "             ('service_time', 0.012142983074753174),\n",
       "             ('service_ctf', 0.011853092158893123),\n",
       "             ('service_csnet_ns', 0.011741639864299247),\n",
       "             ('service_supdup', 0.011630212119209674),\n",
       "             ('service_http_443', 0.011518808915514052),\n",
       "             ('service_discard', 0.011451978769793203),\n",
       "             ('service_domain', 0.011184746471740902),\n",
       "             ('service_daytime', 0.01107344135258894),\n",
       "             ('service_gopher', 0.010672945733022314),\n",
       "             ('service_efs', 0.010517283108539242),\n",
       "             ('service_exec', 0.010228322555100963),\n",
       "             ('service_systat', 0.010117227879561),\n",
       "             ('service_link', 0.009983946517713808),\n",
       "             ('service_hostnames', 0.00982849604221636),\n",
       "             ('service_name', 0.009406800149453835),\n",
       "             ('service_klogin', 0.009340248780273395),\n",
       "             ('service_login', 0.009229349330872173),\n",
       "             ('service_mtp', 0.009140647316033486),\n",
       "             ('service_echo', 0.009140647316033486),\n",
       "             ('service_urp_i', 0.0089745894762076),\n",
       "             ('service_ldap', 0.008852473420613302),\n",
       "             ('service_netbios_dgm', 0.008608762490392005),\n",
       "             ('service_sunrpc', 0.00809956538917424),\n",
       "             ('service_netbios_ssn', 0.007657203036552723),\n",
       "             ('service_netstat', 0.0075466731018142726),\n",
       "             ('service_eco_i', 0.007434999850402417),\n",
       "             ('service_netbios_ns', 0.007369875633348687),\n",
       "             ('service_kshell', 0.006398597567656404),\n",
       "             ('service_nntp', 0.006156070630504316),\n",
       "             ('service_ssh', 0.006156070630504316),\n",
       "             ('flag_S1', 0.005389507628915231),\n",
       "             ('service_sql_net', 0.005099137742373178),\n",
       "             ('service_pop_3', 0.0027696293759399615),\n",
       "             ('service_IRC', 0.0027696293759399615),\n",
       "             ('service_ntp_u', 0.0025009304056568663),\n",
       "             ('flag_RSTR', 0.002172716043871006),\n",
       "             ('root_shell', 0.0020385084665059667),\n",
       "             ('flag_S2', 0.0017702011186481019),\n",
       "             ('service_pop_2', 0.0015264845061822622),\n",
       "             ('service_rje', 0.0014828059922806865),\n",
       "             ('service_printer', 0.0013517933064428214),\n",
       "             ('service_remote_job', 0.0013081300281247957),\n",
       "             ('service_shell', 0.0011553385359898854),\n",
       "             ('service_X11', 0.0009958974968785302),\n",
       "             ('flag_S3', 0.0006686677167226366),\n",
       "             ('land', 0.00039207998431680063),\n",
       "             ('su_attempted', 0.00029707529373319667),\n",
       "             ('flag_OTH', 0.00016336957167468663),\n",
       "             ('service_urh_i', 0.0001485155867108253),\n",
       "             ('service_red_i', 0.00011880894037276305),\n",
       "             ('service_tim_i', 7.425227954498203e-05),\n",
       "             ('service_tftp_u', 4.455004455004455e-05),\n",
       "             ('flag_SH', 2.969958866069705e-05),\n",
       "             ('is_host_login', 1.4849573817231445e-05),\n",
       "             ('service_http_2784', 0.0),\n",
       "             ('service_harvest', 0.0),\n",
       "             ('service_pm_dump', 0.0),\n",
       "             ('service_aol', 0.0),\n",
       "             ('service_http_8001', 0.0),\n",
       "             ('flag_RSTOS0', 0.0)])"
      ]
     },
     "execution_count": 49,
     "metadata": {},
     "output_type": "execute_result"
    }
   ],
   "source": [
    "dos_ar_dict = getAttributeRatio(train_df.filter(dos_exp), numeric_cols, binary_cols, 'labels5')\n",
    "dos_ar_dict"
   ]
  },
  {
   "cell_type": "code",
   "execution_count": 50,
   "metadata": {
    "scrolled": false
   },
   "outputs": [
    {
     "name": "stdout",
     "output_type": "stream",
     "text": [
      "25105\n",
      "22544\n"
     ]
    }
   ],
   "source": [
    "dos_slicer = VectorSlicer(inputCol=\"indexed_features\", outputCol=\"features\", \n",
    "                          names=selectFeaturesByAR(dos_ar_dict, 0.05))\n",
    "\n",
    "dos_rf = RandomForestClassifier(labelCol=labels_col, featuresCol='features', featureSubsetStrategy='sqrt',\n",
    "                                numTrees=500, maxDepth=20, seed=seed)\n",
    "\n",
    "dos_rf_pipeline = Pipeline(stages=[dos_slicer, dos_rf])\n",
    "dos_rf_model = dos_rf_pipeline.fit(dos_train_df)\n",
    "\n",
    "dos_cv_df = dos_rf_model.transform(scaled_cv_df).cache()\n",
    "dos_test_df = dos_rf_model.transform(scaled_test_df).cache()\n",
    "print(dos_cv_df.count())\n",
    "print(dos_test_df.count())"
   ]
  },
  {
   "cell_type": "code",
   "execution_count": 51,
   "metadata": {
    "scrolled": true
   },
   "outputs": [
    {
     "name": "stdout",
     "output_type": "stream",
     "text": [
      "25105\n"
     ]
    }
   ],
   "source": [
    "# Getting probabilities for CV data\n",
    "res_cv_df = (res_cv_df.drop(dos_prob_col)\n",
    "             .join(dos_cv_df.rdd\n",
    "                    .map(lambda row: (row['id'], float(row['probability'][1])))\n",
    "                    .toDF(['id', dos_prob_col]),\n",
    "                    'id')\n",
    "                    .cache())\n",
    "\n",
    "print(res_cv_df.count())"
   ]
  },
  {
   "cell_type": "code",
   "execution_count": 52,
   "metadata": {
    "scrolled": true
   },
   "outputs": [
    {
     "name": "stdout",
     "output_type": "stream",
     "text": [
      "22544\n"
     ]
    }
   ],
   "source": [
    "# Getting probabilities for Test data\n",
    "res_test_df = (res_test_df.drop(dos_prob_col)\n",
    "               .join(dos_test_df.rdd\n",
    "                    .map(lambda row: (row['id'], float(row['probability'][1])))\n",
    "                    .toDF(['id', dos_prob_col]),\n",
    "                    'id')\n",
    "                    .cache())\n",
    "\n",
    "print(res_test_df.count())"
   ]
  },
  {
   "cell_type": "markdown",
   "metadata": {},
   "source": [
    "The first report shows performance of classification for 'normal' and 'DoS' labels, the second report shows performance for the whole data with adjusted threshold."
   ]
  },
  {
   "cell_type": "code",
   "execution_count": 53,
   "metadata": {
    "scrolled": true
   },
   "outputs": [
    {
     "name": "stdout",
     "output_type": "stream",
     "text": [
      "      \tnormal\t   DoS\t\n",
      "normal\t 13586\t     2\t\n",
      "   DoS\t     2\t  9055\t\n",
      " \n",
      "Accuracy = 0.999823\n",
      "AUC = 0.999816\n",
      " \n",
      "False Alarm Rate = 0.000147189\n",
      "Detection Rate = 0.999779\n",
      "F1 score = 0.999779\n",
      " \n",
      "              precision    recall  f1-score   support\n",
      "\n",
      "         0.0       1.00      1.00      1.00     13588\n",
      "         1.0       1.00      1.00      1.00      9057\n",
      "\n",
      "    accuracy                           1.00     22645\n",
      "   macro avg       1.00      1.00      1.00     22645\n",
      "weighted avg       1.00      1.00      1.00     22645\n",
      "\n",
      " \n",
      "      \tnormal\tattack\t\n",
      "normal\t 13508\t    80\t\n",
      "attack\t   422\t 11095\t\n",
      " \n",
      "Accuracy = 0.980004\n",
      "AUC = 0.978735\n",
      " \n",
      "False Alarm Rate = 0.00588755\n",
      "Detection Rate = 0.963359\n",
      "F1 score = 0.977878\n",
      " \n",
      "              precision    recall  f1-score   support\n",
      "\n",
      "         0.0       0.97      0.99      0.98     13588\n",
      "         1.0       0.99      0.96      0.98     11517\n",
      "\n",
      "    accuracy                           0.98     25105\n",
      "   macro avg       0.98      0.98      0.98     25105\n",
      "weighted avg       0.98      0.98      0.98     25105\n",
      "\n",
      " \n"
     ]
    }
   ],
   "source": [
    "printReport(res_cv_df.filter(dos_exp), probCol=dos_prob_col, e=0.5, labels=['normal', 'DoS'])\n",
    "printReport(res_cv_df, probCol=dos_prob_col, e=0.05)"
   ]
  },
  {
   "cell_type": "code",
   "execution_count": 54,
   "metadata": {
    "scrolled": true
   },
   "outputs": [
    {
     "name": "stdout",
     "output_type": "stream",
     "text": [
      "      \tnormal\t   DoS\t\n",
      "normal\t  9628\t    83\t\n",
      "   DoS\t  1621\t  5837\t\n",
      " \n",
      "Accuracy = 0.900751\n",
      "AUC = 0.887051\n",
      " \n",
      "False Alarm Rate = 0.00854701\n",
      "Detection Rate = 0.78265\n",
      "F1 score = 0.872627\n",
      " \n",
      "              precision    recall  f1-score   support\n",
      "\n",
      "         0.0       0.86      0.99      0.92      9711\n",
      "         1.0       0.99      0.78      0.87      7458\n",
      "\n",
      "    accuracy                           0.90     17169\n",
      "   macro avg       0.92      0.89      0.90     17169\n",
      "weighted avg       0.91      0.90      0.90     17169\n",
      "\n",
      " \n",
      "      \tnormal\tattack\t\n",
      "normal\t  8733\t   978\t\n",
      "attack\t  2853\t  9980\t\n",
      " \n",
      "Accuracy = 0.830066\n",
      "AUC = 0.838486\n",
      " \n",
      "False Alarm Rate = 0.100711\n",
      "Detection Rate = 0.777683\n",
      "F1 score = 0.838973\n",
      " \n",
      "              precision    recall  f1-score   support\n",
      "\n",
      "         0.0       0.75      0.90      0.82      9711\n",
      "         1.0       0.91      0.78      0.84     12833\n",
      "\n",
      "    accuracy                           0.83     22544\n",
      "   macro avg       0.83      0.84      0.83     22544\n",
      "weighted avg       0.84      0.83      0.83     22544\n",
      "\n",
      " \n"
     ]
    }
   ],
   "source": [
    "printReport(res_test_df.filter(dos_exp), probCol=dos_prob_col, e=0.5, labels=['normal', 'DoS'])\n",
    "printReport(res_test_df, probCol=dos_prob_col, e=0.01)"
   ]
  },
  {
   "cell_type": "code",
   "execution_count": 55,
   "metadata": {
    "scrolled": true
   },
   "outputs": [
    {
     "name": "stdout",
     "output_type": "stream",
     "text": [
      "25105\n",
      "22544\n"
     ]
    }
   ],
   "source": [
    "# Adding prediction columns based on chosen thresholds into result dataframes\n",
    "res_cv_df = res_cv_df.withColumn(dos_pred_col, getPrediction(0.05)(col(dos_prob_col))).cache()\n",
    "res_test_df = res_test_df.withColumn(dos_pred_col, getPrediction(0.01)(col(dos_prob_col))).cache()\n",
    "\n",
    "print(res_cv_df.count())\n",
    "print(res_test_df.count())"
   ]
  },
  {
   "cell_type": "markdown",
   "metadata": {},
   "source": [
    "### 2 Probe and normal"
   ]
  },
  {
   "cell_type": "code",
   "execution_count": 56,
   "metadata": {
    "scrolled": true
   },
   "outputs": [],
   "source": [
    "probe_prob_col = 'probe_prob'\n",
    "probe_pred_col = 'probe_pred'\n",
    "\n",
    "prob_cols.append(probe_prob_col)\n",
    "pred_cols.append(probe_pred_col)"
   ]
  },
  {
   "cell_type": "code",
   "execution_count": 57,
   "metadata": {
    "scrolled": true
   },
   "outputs": [
    {
     "name": "stdout",
     "output_type": "stream",
     "text": [
      "63157\n",
      "+-------+-----+\n",
      "|labels5|count|\n",
      "+-------+-----+\n",
      "| normal|53755|\n",
      "|  Probe| 9402|\n",
      "+-------+-----+\n",
      "\n"
     ]
    }
   ],
   "source": [
    "probe_exp = (col('labels5') == 'Probe') | (col('labels5') == 'normal')\n",
    "probe_train_df = (scaled_train_df.filter(probe_exp).cache())\n",
    "\n",
    "print(probe_train_df.count())\n",
    "(probe_train_df\n",
    "     .groupby('labels5')\n",
    "     .count()\n",
    "     .sort(sql.desc('count'))\n",
    "     .show())"
   ]
  },
  {
   "cell_type": "markdown",
   "metadata": {},
   "source": [
    "Diffirent AR feature selection is used as only normal and Probe connections are treated. Note that train dataframe without standartization is used for getting Attribute Ratio dictionary."
   ]
  },
  {
   "cell_type": "code",
   "execution_count": 58,
   "metadata": {
    "scrolled": true
   },
   "outputs": [
    {
     "data": {
      "text/plain": [
       "OrderedDict([('flag_SF', 16.04886075949367),\n",
       "             ('dst_bytes', 5.954890189917854),\n",
       "             ('src_bytes', 5.663342453521275),\n",
       "             ('duration', 4.612329795738909),\n",
       "             ('dst_host_diff_srv_rate', 4.295388446517403),\n",
       "             ('srv_rerror_rate', 4.289248359824754),\n",
       "             ('rerror_rate', 4.279060093009597),\n",
       "             ('dst_host_srv_rerror_rate', 4.274560348159748),\n",
       "             ('diff_srv_rate', 4.111925438331669),\n",
       "             ('dst_host_rerror_rate', 4.008755744761221),\n",
       "             ('protocol_type_tcp', 3.900167357927672),\n",
       "             ('dst_host_srv_diff_host_rate', 3.7617643806475676),\n",
       "             ('dst_host_srv_serror_rate', 3.589975516844939),\n",
       "             ('dst_host_same_src_port_rate', 3.2601442474409343),\n",
       "             ('serror_rate', 2.539265364386703),\n",
       "             ('count', 2.520990695784333),\n",
       "             ('srv_serror_rate', 2.4750624093482068),\n",
       "             ('logged_in', 2.4559683875603),\n",
       "             ('dst_host_serror_rate', 2.4221283777796168),\n",
       "             ('srv_diff_host_rate', 1.974563856543828),\n",
       "             ('service_http', 1.2988666621151088),\n",
       "             ('urgent', 1.1730840621890917),\n",
       "             ('num_access_files', 1.1730840621890917),\n",
       "             ('num_shells', 1.1730840621890914),\n",
       "             ('num_root', 1.1728674890158846),\n",
       "             ('num_compromised', 1.1728436409203076),\n",
       "             ('hot', 1.171650896218053),\n",
       "             ('num_file_creations', 1.1576487455813405),\n",
       "             ('dst_host_srv_count', 1.129554174884712),\n",
       "             ('num_failed_logins', 1.1247094616864488),\n",
       "             ('srv_count', 1.0980131509657178),\n",
       "             ('dst_host_same_srv_rate', 1.0828598984110953),\n",
       "             ('same_srv_rate', 1.0432163005405366),\n",
       "             ('dst_host_count', 1.002234530632061),\n",
       "             ('service_private', 0.7252812314979278),\n",
       "             ('protocol_type_icmp', 0.5497939103842574),\n",
       "             ('service_eco_i', 0.5403726708074534),\n",
       "             ('flag_REJ', 0.3265050642995334),\n",
       "             ('flag_RSTR', 0.23005487547488393),\n",
       "             ('protocol_type_udp', 0.22644739478045495),\n",
       "             ('service_other', 0.16945921541085582),\n",
       "             ('service_domain_u', 0.15493320070658045),\n",
       "             ('service_smtp', 0.11654010677454654),\n",
       "             ('service_ftp_data', 0.07992430924164916),\n",
       "             ('flag_SH', 0.02326398033535247),\n",
       "             ('service_ftp', 0.013820097854723372),\n",
       "             ('service_telnet', 0.013804835455996147),\n",
       "             ('flag_S0', 0.013300878031817787),\n",
       "             ('is_guest_login', 0.013133744546411915),\n",
       "             ('service_urp_i', 0.0089745894762076),\n",
       "             ('flag_RSTOS0', 0.008915433220808448),\n",
       "             ('service_finger', 0.00815892691397946),\n",
       "             ('flag_RSTO', 0.006910850034554251),\n",
       "             ('flag_S1', 0.005389507628915231),\n",
       "             ('service_ecr_i', 0.0037027469215534315),\n",
       "             ('service_auth', 0.003516771722771097),\n",
       "             ('flag_OTH', 0.0030117890026675844),\n",
       "             ('service_gopher', 0.002839198141615762),\n",
       "             ('service_pop_3', 0.0027696293759399615),\n",
       "             ('service_IRC', 0.0027696293759399615),\n",
       "             ('service_ntp_u', 0.0025009304056568663),\n",
       "             ('service_time', 0.0023217817525152634),\n",
       "             ('service_ctf', 0.0021494282520849455),\n",
       "             ('service_ssh', 0.0021494282520849455),\n",
       "             ('root_shell', 0.0020385084665059667),\n",
       "             ('service_name', 0.001977134015301298),\n",
       "             ('service_mtp', 0.001977134015301298),\n",
       "             ('service_domain', 0.001977134015301298),\n",
       "             ('service_whois', 0.001977134015301298),\n",
       "             ('service_link', 0.0018048990116029222),\n",
       "             ('flag_S2', 0.0017702011186481019),\n",
       "             ('service_discard', 0.0015466575012888812),\n",
       "             ('service_daytime', 0.0015466575012888812),\n",
       "             ('service_echo', 0.0015466575012888812),\n",
       "             ('service_remote_job', 0.0015466575012888812),\n",
       "             ('service_rje', 0.0015466575012888812),\n",
       "             ('service_systat', 0.0014606065813214193),\n",
       "             ('service_supdup', 0.0013745704467353953),\n",
       "             ('service_netstat', 0.0013745704467353953),\n",
       "             ('service_nntp', 0.0012885490937204708),\n",
       "             ('service_uucp_path', 0.0011165507171691145),\n",
       "             ('service_netbios_dgm', 0.0011165507171691145),\n",
       "             ('service_netbios_ssn', 0.0011165507171691145),\n",
       "             ('service_hostnames', 0.0011165507171691145),\n",
       "             ('service_iso_tsap', 0.0010305736860185502),\n",
       "             ('service_sql_net', 0.0010305736860185502),\n",
       "             ('service_csnet_ns', 0.0010305736860185502),\n",
       "             ('service_sunrpc', 0.0010305736860185502),\n",
       "             ('service_X11', 0.0009958974968785302),\n",
       "             ('service_Z39_50', 0.0009446114212108201),\n",
       "             ('service_netbios_ns', 0.0009446114212108201),\n",
       "             ('service_vmnet', 0.0009446114212108201),\n",
       "             ('service_imap4', 0.0009446114212108201),\n",
       "             ('service_uucp', 0.0009446114212108201),\n",
       "             ('service_bgp', 0.0009446114212108201),\n",
       "             ('service_exec', 0.0007727311754099768),\n",
       "             ('service_courier', 0.0006868131868131869),\n",
       "             ('service_pop_2', 0.0006868131868131869),\n",
       "             ('service_nnsp', 0.0006868131868131869),\n",
       "             ('service_klogin', 0.0006868131868131869),\n",
       "             ('service_shell', 0.0006868131868131869),\n",
       "             ('flag_S3', 0.0006686677167226366),\n",
       "             ('service_ldap', 0.0006009099493518757),\n",
       "             ('service_login', 0.0006009099493518757),\n",
       "             ('service_kshell', 0.0006009099493518757),\n",
       "             ('service_efs', 0.0006009099493518757),\n",
       "             ('service_printer', 0.0006009099493518757),\n",
       "             ('service_http_443', 0.0006009099493518757),\n",
       "             ('service_pm_dump', 0.0004291477126426916),\n",
       "             ('su_attempted', 0.00029707529373319667),\n",
       "             ('service_harvest', 0.00017161489617298782),\n",
       "             ('service_aol', 0.00017161489617298782),\n",
       "             ('service_http_8001', 0.00017161489617298782),\n",
       "             ('service_urh_i', 0.0001485155867108253),\n",
       "             ('service_red_i', 0.00011880894037276305),\n",
       "             ('land', 0.00010395627895924914),\n",
       "             ('service_http_2784', 8.58000858000858e-05),\n",
       "             ('service_tim_i', 7.425227954498203e-05),\n",
       "             ('service_tftp_u', 4.455004455004455e-05),\n",
       "             ('is_host_login', 1.4849573817231445e-05),\n",
       "             ('wrong_fragment', 0.0)])"
      ]
     },
     "execution_count": 58,
     "metadata": {},
     "output_type": "execute_result"
    }
   ],
   "source": [
    "probe_ar_dict = getAttributeRatio(train_df.filter(probe_exp), numeric_cols, binary_cols, 'labels5')\n",
    "probe_ar_dict"
   ]
  },
  {
   "cell_type": "code",
   "execution_count": 59,
   "metadata": {
    "scrolled": true
   },
   "outputs": [
    {
     "name": "stdout",
     "output_type": "stream",
     "text": [
      "25105\n",
      "22544\n"
     ]
    }
   ],
   "source": [
    "probe_slicer = VectorSlicer(inputCol=\"indexed_features\", outputCol=\"features\",\n",
    "                            names=selectFeaturesByAR(probe_ar_dict, 0.05))\n",
    "\n",
    "probe_rf = RandomForestClassifier(labelCol=labels_col, featuresCol='features', featureSubsetStrategy='sqrt',\n",
    "                                  numTrees=500, maxDepth=20, seed=seed)\n",
    "probe_rf_pipeline = Pipeline(stages=[probe_slicer, probe_rf])\n",
    "\n",
    "probe_rf_model = probe_rf_pipeline.fit(probe_train_df)\n",
    "\n",
    "probe_cv_df = probe_rf_model.transform(scaled_cv_df).cache()\n",
    "probe_test_df = probe_rf_model.transform(scaled_test_df).cache()\n",
    "\n",
    "print(probe_cv_df.count())\n",
    "print(probe_test_df.count())"
   ]
  },
  {
   "cell_type": "code",
   "execution_count": 60,
   "metadata": {
    "scrolled": true
   },
   "outputs": [
    {
     "name": "stdout",
     "output_type": "stream",
     "text": [
      "25105\n"
     ]
    }
   ],
   "source": [
    "# Getting probabilities for CV data\n",
    "res_cv_df = (res_cv_df.drop(probe_prob_col)\n",
    "             .join(probe_cv_df.rdd\n",
    "                    .map(lambda row: (row['id'], float(row['probability'][1])))\n",
    "                    .toDF(['id', probe_prob_col]), 'id')\n",
    "                    .cache())\n",
    "\n",
    "print(res_cv_df.count())"
   ]
  },
  {
   "cell_type": "code",
   "execution_count": 61,
   "metadata": {
    "scrolled": true
   },
   "outputs": [
    {
     "name": "stdout",
     "output_type": "stream",
     "text": [
      "22544\n"
     ]
    }
   ],
   "source": [
    "# Getting probabilities for Test data\n",
    "res_test_df = (res_test_df.drop(probe_prob_col)\n",
    "               .join(probe_test_df.rdd\n",
    "                    .map(lambda row: (row['id'], float(row['probability'][1])))\n",
    "                    .toDF(['id', probe_prob_col]), 'id')\n",
    "                    .cache())\n",
    "\n",
    "print(res_test_df.count())"
   ]
  },
  {
   "cell_type": "markdown",
   "metadata": {},
   "source": [
    "The first report shows performance of classification for 'normal' and 'Probe' labels, the second report shows performance for the whole data with adjusted threshold."
   ]
  },
  {
   "cell_type": "code",
   "execution_count": 62,
   "metadata": {
    "scrolled": true
   },
   "outputs": [
    {
     "name": "stdout",
     "output_type": "stream",
     "text": [
      "      \tnormal\t Probe\t\n",
      "normal\t 13581\t     7\t\n",
      " Probe\t    14\t  2240\t\n",
      " \n",
      "Accuracy = 0.998674\n",
      "AUC = 0.996637\n",
      " \n",
      "False Alarm Rate = 0.00051516\n",
      "Detection Rate = 0.993789\n",
      "F1 score = 0.995334\n",
      " \n",
      "              precision    recall  f1-score   support\n",
      "\n",
      "         0.0       1.00      1.00      1.00     13588\n",
      "         1.0       1.00      0.99      1.00      2254\n",
      "\n",
      "    accuracy                           1.00     15842\n",
      "   macro avg       1.00      1.00      1.00     15842\n",
      "weighted avg       1.00      1.00      1.00     15842\n",
      "\n",
      " \n",
      "      \tnormal\tattack\t\n",
      "normal\t 13405\t   183\t\n",
      "attack\t   411\t 11106\t\n",
      " \n",
      "Accuracy = 0.976339\n",
      "AUC = 0.975423\n",
      " \n",
      "False Alarm Rate = 0.0134678\n",
      "Detection Rate = 0.964314\n",
      "F1 score = 0.973954\n",
      " \n",
      "              precision    recall  f1-score   support\n",
      "\n",
      "         0.0       0.97      0.99      0.98     13588\n",
      "         1.0       0.98      0.96      0.97     11517\n",
      "\n",
      "    accuracy                           0.98     25105\n",
      "   macro avg       0.98      0.98      0.98     25105\n",
      "weighted avg       0.98      0.98      0.98     25105\n",
      "\n",
      " \n"
     ]
    }
   ],
   "source": [
    "printReport(res_cv_df.filter(probe_exp), probCol=probe_prob_col, e=0.5, labels=['normal', 'Probe'])\n",
    "printReport(res_cv_df, probCol=probe_prob_col, e=0.05)"
   ]
  },
  {
   "cell_type": "code",
   "execution_count": 63,
   "metadata": {
    "scrolled": true
   },
   "outputs": [
    {
     "name": "stdout",
     "output_type": "stream",
     "text": [
      "      \tnormal\t Probe\t\n",
      "normal\t  9489\t   222\t\n",
      " Probe\t   905\t  1516\t\n",
      " \n",
      "Accuracy = 0.907105\n",
      "AUC = 0.801663\n",
      " \n",
      "False Alarm Rate = 0.0228607\n",
      "Detection Rate = 0.626188\n",
      "F1 score = 0.729021\n",
      " \n",
      "              precision    recall  f1-score   support\n",
      "\n",
      "         0.0       0.91      0.98      0.94      9711\n",
      "         1.0       0.87      0.63      0.73      2421\n",
      "\n",
      "    accuracy                           0.91     12132\n",
      "   macro avg       0.89      0.80      0.84     12132\n",
      "weighted avg       0.90      0.91      0.90     12132\n",
      "\n",
      " \n",
      "      \tnormal\tattack\t\n",
      "normal\t  8407\t  1304\t\n",
      "attack\t  1526\t 11307\t\n",
      " \n",
      "Accuracy = 0.874468\n",
      "AUC = 0.873404\n",
      " \n",
      "False Alarm Rate = 0.134281\n",
      "Detection Rate = 0.881088\n",
      "F1 score = 0.888775\n",
      " \n",
      "              precision    recall  f1-score   support\n",
      "\n",
      "         0.0       0.85      0.87      0.86      9711\n",
      "         1.0       0.90      0.88      0.89     12833\n",
      "\n",
      "    accuracy                           0.87     22544\n",
      "   macro avg       0.87      0.87      0.87     22544\n",
      "weighted avg       0.87      0.87      0.87     22544\n",
      "\n",
      " \n"
     ]
    }
   ],
   "source": [
    "printReport(res_test_df.filter(probe_exp), probCol=probe_prob_col, e=0.5, labels=['normal', 'Probe'])\n",
    "printReport(res_test_df, probCol=probe_prob_col, e=0.01)"
   ]
  },
  {
   "cell_type": "code",
   "execution_count": 64,
   "metadata": {
    "scrolled": true
   },
   "outputs": [
    {
     "name": "stdout",
     "output_type": "stream",
     "text": [
      "25105\n",
      "22544\n"
     ]
    }
   ],
   "source": [
    "# Adding prediction columns based on chosen thresholds into result dataframes\n",
    "res_cv_df = res_cv_df.withColumn(probe_pred_col, getPrediction(0.05)(col(probe_prob_col))).cache()\n",
    "res_test_df = res_test_df.withColumn(probe_pred_col, getPrediction(0.01)(col(probe_prob_col))).cache()\n",
    "\n",
    "print(res_cv_df.count())\n",
    "print(res_test_df.count())"
   ]
  },
  {
   "cell_type": "markdown",
   "metadata": {},
   "source": [
    "### 3 R2L, U2R and normal types"
   ]
  },
  {
   "cell_type": "markdown",
   "metadata": {},
   "source": [
    "As there are a few examples of both R2L and U2R attack types and they have similar behaviour, they are combined into one group."
   ]
  },
  {
   "cell_type": "code",
   "execution_count": 65,
   "metadata": {
    "scrolled": true
   },
   "outputs": [],
   "source": [
    "r2l_u2r_prob_col = 'r2l_u2r_prob'\n",
    "r2l_u2r_pred_col = 'r2l_u2r_pred'\n",
    "\n",
    "prob_cols.append(r2l_u2r_prob_col)\n",
    "pred_cols.append(r2l_u2r_pred_col)"
   ]
  },
  {
   "cell_type": "code",
   "execution_count": 66,
   "metadata": {
    "scrolled": true
   },
   "outputs": [
    {
     "name": "stdout",
     "output_type": "stream",
     "text": [
      "54596\n",
      "+-------+-----+\n",
      "|labels5|count|\n",
      "+-------+-----+\n",
      "| normal|53755|\n",
      "|    R2L|  803|\n",
      "|    U2R|   38|\n",
      "+-------+-----+\n",
      "\n"
     ]
    }
   ],
   "source": [
    "r2l_u2r_exp = (col('labels5') == 'R2L') | (col('labels5') == 'U2R') | (col('labels5') == 'normal')\n",
    "r2l_u2r_train_df = (scaled_train_df.filter(r2l_u2r_exp).cache())\n",
    "\n",
    "print(r2l_u2r_train_df.count())\n",
    "(r2l_u2r_train_df\n",
    "     .groupby('labels5')\n",
    "     .count()\n",
    "     .sort(sql.desc('count'))\n",
    "     .show())"
   ]
  },
  {
   "cell_type": "markdown",
   "metadata": {},
   "source": [
    "Diffirent AR feature selection is used as only normal, R2L and U2R connections are treated. Note that train dataframe without standartization is used for getting Attribute Ratio dictionary."
   ]
  },
  {
   "cell_type": "code",
   "execution_count": 67,
   "metadata": {
    "scrolled": true
   },
   "outputs": [
    {
     "data": {
      "text/plain": [
       "OrderedDict([('protocol_type_tcp', 1000.0),\n",
       "             ('num_shells', 177.04511834319524),\n",
       "             ('urgent', 93.9423076923077),\n",
       "             ('flag_SF', 51.0),\n",
       "             ('num_file_creations', 34.215028309254194),\n",
       "             ('num_failed_logins', 25.660569514237856),\n",
       "             ('hot', 23.850718086856727),\n",
       "             ('src_bytes', 17.67531409051069),\n",
       "             ('dst_bytes', 14.991946554922052),\n",
       "             ('logged_in', 10.569767441860465),\n",
       "             ('dst_host_same_src_port_rate', 4.628005391558456),\n",
       "             ('duration', 3.6136716211332516),\n",
       "             ('dst_host_srv_diff_host_rate', 3.1864996773281713),\n",
       "             ('serror_rate', 2.833695081701005),\n",
       "             ('dst_host_srv_serror_rate', 2.5500330660616055),\n",
       "             ('num_access_files', 2.5488223017292784),\n",
       "             ('num_compromised', 2.416504765066944),\n",
       "             ('diff_srv_rate', 2.2340127157718115),\n",
       "             ('service_telnet', 1.8888888888888888),\n",
       "             ('dst_host_serror_rate', 1.6957954188401017),\n",
       "             ('service_ftp_data', 1.5447570332480818),\n",
       "             ('num_root', 1.4167490243394714),\n",
       "             ('service_http', 1.2988666621151088),\n",
       "             ('rerror_rate', 1.1689013372512607),\n",
       "             ('srv_rerror_rate', 1.1637508327448711),\n",
       "             ('dst_host_rerror_rate', 1.0957297788537261),\n",
       "             ('dst_host_srv_rerror_rate', 1.0592425018784517),\n",
       "             ('same_srv_rate', 1.0277652952510719),\n",
       "             ('count', 1.0144815637217448),\n",
       "             ('srv_count', 1.0141813848818528),\n",
       "             ('srv_diff_host_rate', 1.0135126072759637),\n",
       "             ('dst_host_srv_count', 1.0121712135809817),\n",
       "             ('dst_host_diff_srv_rate', 1.0068745777366677),\n",
       "             ('dst_host_count', 1.0063161527990898),\n",
       "             ('srv_serror_rate', 1.0020143592857598),\n",
       "             ('dst_host_same_srv_rate', 1.0015453739903872),\n",
       "             ('root_shell', 1.0),\n",
       "             ('is_guest_login', 0.45894428152492667),\n",
       "             ('service_ftp', 0.4568081991215227),\n",
       "             ('protocol_type_udp', 0.22644739478045495),\n",
       "             ('service_domain_u', 0.15493320070658045),\n",
       "             ('service_smtp', 0.11654010677454654),\n",
       "             ('service_other', 0.061224489795918366),\n",
       "             ('flag_RSTO', 0.04847207586933614),\n",
       "             ('flag_REJ', 0.04165506573859242),\n",
       "             ('protocol_type_icmp', 0.019823121422297606),\n",
       "             ('service_private', 0.014797848133692983),\n",
       "             ('service_imap4', 0.011178861788617886),\n",
       "             ('service_urp_i', 0.0089745894762076),\n",
       "             ('service_finger', 0.00815892691397946),\n",
       "             ('service_eco_i', 0.007434999850402417),\n",
       "             ('flag_S1', 0.005389507628915231),\n",
       "             ('flag_S0', 0.005284449685769305),\n",
       "             ('flag_RSTR', 0.005050505050505051),\n",
       "             ('flag_SH', 0.004036326942482341),\n",
       "             ('service_auth', 0.003516771722771097),\n",
       "             ('flag_S3', 0.0030241935483870967),\n",
       "             ('service_ecr_i', 0.002829359820112281),\n",
       "             ('service_pop_3', 0.0027696293759399615),\n",
       "             ('service_IRC', 0.0027696293759399615),\n",
       "             ('service_ntp_u', 0.0025009304056568663),\n",
       "             ('service_login', 0.002014098690835851),\n",
       "             ('flag_S2', 0.0017702011186481019),\n",
       "             ('service_time', 0.0011298259176119047),\n",
       "             ('su_attempted', 0.001006036217303823),\n",
       "             ('service_X11', 0.0009958974968785302),\n",
       "             ('service_domain', 0.0005645940123319218),\n",
       "             ('flag_OTH', 0.00016336957167468663),\n",
       "             ('service_urh_i', 0.0001485155867108253),\n",
       "             ('service_red_i', 0.00011880894037276305),\n",
       "             ('land', 0.00010395627895924914),\n",
       "             ('service_tim_i', 7.425227954498203e-05),\n",
       "             ('service_ssh', 7.425227954498203e-05),\n",
       "             ('service_shell', 5.940094150492285e-05),\n",
       "             ('service_tftp_u', 4.455004455004455e-05),\n",
       "             ('is_host_login', 1.4849573817231445e-05),\n",
       "             ('wrong_fragment', 0.0),\n",
       "             ('service_iso_tsap', 0.0),\n",
       "             ('service_systat', 0.0),\n",
       "             ('service_name', 0.0),\n",
       "             ('service_sql_net', 0.0),\n",
       "             ('service_ldap', 0.0),\n",
       "             ('service_discard', 0.0),\n",
       "             ('service_Z39_50', 0.0),\n",
       "             ('service_daytime', 0.0),\n",
       "             ('service_http_2784', 0.0),\n",
       "             ('service_mtp', 0.0),\n",
       "             ('service_harvest', 0.0),\n",
       "             ('service_link', 0.0),\n",
       "             ('service_courier', 0.0),\n",
       "             ('service_kshell', 0.0),\n",
       "             ('service_pop_2', 0.0),\n",
       "             ('service_exec', 0.0),\n",
       "             ('service_efs', 0.0),\n",
       "             ('service_nnsp', 0.0),\n",
       "             ('service_pm_dump', 0.0),\n",
       "             ('service_whois', 0.0),\n",
       "             ('service_nntp', 0.0),\n",
       "             ('service_netbios_ns', 0.0),\n",
       "             ('service_aol', 0.0),\n",
       "             ('service_klogin', 0.0),\n",
       "             ('service_uucp_path', 0.0),\n",
       "             ('service_vmnet', 0.0),\n",
       "             ('service_ctf', 0.0),\n",
       "             ('service_supdup', 0.0),\n",
       "             ('service_http_8001', 0.0),\n",
       "             ('service_netbios_dgm', 0.0),\n",
       "             ('service_printer', 0.0),\n",
       "             ('service_netbios_ssn', 0.0),\n",
       "             ('service_csnet_ns', 0.0),\n",
       "             ('service_hostnames', 0.0),\n",
       "             ('service_sunrpc', 0.0),\n",
       "             ('service_http_443', 0.0),\n",
       "             ('service_echo', 0.0),\n",
       "             ('service_netstat', 0.0),\n",
       "             ('service_remote_job', 0.0),\n",
       "             ('service_gopher', 0.0),\n",
       "             ('service_uucp', 0.0),\n",
       "             ('service_rje', 0.0),\n",
       "             ('service_bgp', 0.0),\n",
       "             ('flag_RSTOS0', 0.0)])"
      ]
     },
     "execution_count": 67,
     "metadata": {},
     "output_type": "execute_result"
    }
   ],
   "source": [
    "r2l_u2r_ar_dict = getAttributeRatio(train_df.filter(r2l_u2r_exp), numeric_cols, binary_cols, 'labels5')\n",
    "r2l_u2r_ar_dict"
   ]
  },
  {
   "cell_type": "code",
   "execution_count": 68,
   "metadata": {
    "scrolled": true
   },
   "outputs": [
    {
     "name": "stdout",
     "output_type": "stream",
     "text": [
      "25105\n",
      "22544\n"
     ]
    }
   ],
   "source": [
    "r2l_u2r_slicer = VectorSlicer(inputCol=\"indexed_features\", outputCol=\"features\",\n",
    "                              names=selectFeaturesByAR(r2l_u2r_ar_dict, 0.05))\n",
    "\n",
    "r2l_u2r_rf = RandomForestClassifier(labelCol=labels_col, featuresCol='features', featureSubsetStrategy='sqrt',\n",
    "                                    numTrees=500, maxDepth=20, seed=seed)\n",
    "r2l_u2r_rf_pipeline = Pipeline(stages=[r2l_u2r_slicer, r2l_u2r_rf])\n",
    "\n",
    "r2l_u2r_rf_model = r2l_u2r_rf_pipeline.fit(r2l_u2r_train_df)\n",
    "\n",
    "r2l_u2r_cv_df = r2l_u2r_rf_model.transform(scaled_cv_df).cache()\n",
    "r2l_u2r_test_df = r2l_u2r_rf_model.transform(scaled_test_df).cache()\n",
    "print(r2l_u2r_cv_df.count())\n",
    "print(r2l_u2r_test_df.count())"
   ]
  },
  {
   "cell_type": "code",
   "execution_count": 69,
   "metadata": {
    "scrolled": true
   },
   "outputs": [
    {
     "name": "stdout",
     "output_type": "stream",
     "text": [
      "25105\n"
     ]
    }
   ],
   "source": [
    "# Getting probabilities for CV data\n",
    "res_cv_df = (res_cv_df.drop(r2l_u2r_prob_col)\n",
    "             .join(r2l_u2r_cv_df.rdd\n",
    "                    .map(lambda row: (row['id'], float(row['probability'][1])))\n",
    "                    .toDF(['id', r2l_u2r_prob_col]), 'id')\n",
    "                    .cache())\n",
    "\n",
    "print(res_cv_df.count())"
   ]
  },
  {
   "cell_type": "code",
   "execution_count": 70,
   "metadata": {
    "scrolled": true
   },
   "outputs": [
    {
     "name": "stdout",
     "output_type": "stream",
     "text": [
      "22544\n"
     ]
    }
   ],
   "source": [
    "# Getting probabilities for Test data\n",
    "res_test_df = (res_test_df.drop(r2l_u2r_prob_col)\n",
    "               .join(r2l_u2r_test_df.rdd\n",
    "                    .map(lambda row: (row['id'], float(row['probability'][1])))\n",
    "                    .toDF(['id', r2l_u2r_prob_col]), 'id')\n",
    "                    .cache())\n",
    "\n",
    "print(res_test_df.count())"
   ]
  },
  {
   "cell_type": "markdown",
   "metadata": {},
   "source": [
    "The first report shows performance of classification for 'normal' and 'R2L&U2R' labels, the second report shows performance for the whole data with adjusted threshold."
   ]
  },
  {
   "cell_type": "code",
   "execution_count": 71,
   "metadata": {
    "scrolled": true
   },
   "outputs": [
    {
     "name": "stdout",
     "output_type": "stream",
     "text": [
      "       \t normal\tR2L&U2R\t\n",
      " normal\t  13588\t      0\t\n",
      "R2L&U2R\t     15\t    191\t\n",
      " \n",
      "Accuracy = 0.998913\n",
      "AUC = 0.963592\n",
      " \n",
      "False Alarm Rate = 0\n",
      "Detection Rate = 0.927184\n",
      "F1 score = 0.962217\n",
      " \n",
      "              precision    recall  f1-score   support\n",
      "\n",
      "         0.0       1.00      1.00      1.00     13588\n",
      "         1.0       1.00      0.93      0.96       206\n",
      "\n",
      "    accuracy                           1.00     13794\n",
      "   macro avg       1.00      0.96      0.98     13794\n",
      "weighted avg       1.00      1.00      1.00     13794\n",
      "\n",
      " \n",
      "      \tnormal\tattack\t\n",
      "normal\t 13516\t    72\t\n",
      "attack\t  4378\t  7139\t\n",
      " \n",
      "Accuracy = 0.822744\n",
      "AUC = 0.807284\n",
      " \n",
      "False Alarm Rate = 0.00529879\n",
      "Detection Rate = 0.619866\n",
      "F1 score = 0.762388\n",
      " \n",
      "              precision    recall  f1-score   support\n",
      "\n",
      "         0.0       0.76      0.99      0.86     13588\n",
      "         1.0       0.99      0.62      0.76     11517\n",
      "\n",
      "    accuracy                           0.82     25105\n",
      "   macro avg       0.87      0.81      0.81     25105\n",
      "weighted avg       0.86      0.82      0.81     25105\n",
      "\n",
      " \n"
     ]
    }
   ],
   "source": [
    "printReport(res_cv_df.filter(r2l_u2r_exp), probCol=r2l_u2r_prob_col, e=0.5, labels=['normal', 'R2L&U2R'])\n",
    "printReport(res_cv_df, probCol=r2l_u2r_prob_col, e=0.05, labels=labels2)"
   ]
  },
  {
   "cell_type": "code",
   "execution_count": 72,
   "metadata": {
    "scrolled": true
   },
   "outputs": [
    {
     "name": "stdout",
     "output_type": "stream",
     "text": [
      "       \t normal\tR2L&U2R\t\n",
      " normal\t   9710\t      1\t\n",
      "R2L&U2R\t   2656\t    298\t\n",
      " \n",
      "Accuracy = 0.790209\n",
      "AUC = 0.550389\n",
      " \n",
      "False Alarm Rate = 0.000102976\n",
      "Detection Rate = 0.10088\n",
      "F1 score = 0.183215\n",
      " \n",
      "              precision    recall  f1-score   support\n",
      "\n",
      "         0.0       0.79      1.00      0.88      9711\n",
      "         1.0       1.00      0.10      0.18      2954\n",
      "\n",
      "    accuracy                           0.79     12665\n",
      "   macro avg       0.89      0.55      0.53     12665\n",
      "weighted avg       0.83      0.79      0.72     12665\n",
      "\n",
      " \n",
      "      \tnormal\tattack\t\n",
      "normal\t  9365\t   346\t\n",
      "attack\t  5972\t  6861\t\n",
      " \n",
      "Accuracy = 0.719748\n",
      "AUC = 0.749504\n",
      " \n",
      "False Alarm Rate = 0.0356297\n",
      "Detection Rate = 0.534637\n",
      "F1 score = 0.684731\n",
      " \n",
      "              precision    recall  f1-score   support\n",
      "\n",
      "         0.0       0.61      0.96      0.75      9711\n",
      "         1.0       0.95      0.53      0.68     12833\n",
      "\n",
      "    accuracy                           0.72     22544\n",
      "   macro avg       0.78      0.75      0.72     22544\n",
      "weighted avg       0.80      0.72      0.71     22544\n",
      "\n",
      " \n"
     ]
    }
   ],
   "source": [
    "printReport(res_test_df.filter(r2l_u2r_exp), probCol=r2l_u2r_prob_col, e=0.5, labels=['normal', 'R2L&U2R'])\n",
    "printReport(res_test_df, probCol=r2l_u2r_prob_col, e=0.01, labels=labels2)"
   ]
  },
  {
   "cell_type": "code",
   "execution_count": 73,
   "metadata": {
    "scrolled": true
   },
   "outputs": [
    {
     "name": "stdout",
     "output_type": "stream",
     "text": [
      "25105\n",
      "22544\n"
     ]
    }
   ],
   "source": [
    "# Adding prediction columns based on chosen thresholds into result dataframes\n",
    "res_cv_df = res_cv_df.withColumn(r2l_u2r_pred_col, getPrediction(0.05)(col(r2l_u2r_prob_col))).cache()\n",
    "res_test_df = res_test_df.withColumn(r2l_u2r_pred_col, getPrediction(0.01)(col(r2l_u2r_prob_col))).cache()\n",
    "\n",
    "print(res_cv_df.count())\n",
    "print(res_test_df.count())"
   ]
  },
  {
   "cell_type": "markdown",
   "metadata": {},
   "source": [
    "### Combining results"
   ]
  },
  {
   "cell_type": "code",
   "execution_count": 74,
   "metadata": {
    "scrolled": true
   },
   "outputs": [],
   "source": [
    "sup_prob_col = 'sup_prob'\n",
    "sup_pred_col = 'sup_pred'\n",
    "\n",
    "prob_cols.append(sup_prob_col)\n",
    "pred_cols.append(sup_pred_col)"
   ]
  },
  {
   "cell_type": "code",
   "execution_count": 76,
   "metadata": {
    "scrolled": true
   },
   "outputs": [
    {
     "name": "stdout",
     "output_type": "stream",
     "text": [
      "      \tnormal\tattack\t\n",
      "normal\t 13463\t   125\t\n",
      "attack\t     7\t 11510\t\n",
      " \n",
      "Accuracy = 0.994742\n",
      "AUC = 0.995096\n",
      " \n",
      "False Alarm Rate = 0.00919929\n",
      "Detection Rate = 0.999392\n",
      "F1 score = 0.994299\n",
      " \n",
      "              precision    recall  f1-score   support\n",
      "\n",
      "         0.0       1.00      0.99      1.00     13588\n",
      "         1.0       0.99      1.00      0.99     11517\n",
      "\n",
      "    accuracy                           0.99     25105\n",
      "   macro avg       0.99      1.00      0.99     25105\n",
      "weighted avg       0.99      0.99      0.99     25105\n",
      "\n",
      " \n"
     ]
    }
   ],
   "source": [
    "res_cv_df = res_cv_df.withColumn(sup_prob_col, \n",
    "                                 (col(dos_prob_col) + col(probe_prob_col) + col(r2l_u2r_prob_col))/3).cache()\n",
    "\n",
    "printReport(res_cv_df, sup_prob_col, e=0.05, labels=labels2)"
   ]
  },
  {
   "cell_type": "code",
   "execution_count": 77,
   "metadata": {
    "scrolled": true
   },
   "outputs": [
    {
     "name": "stdout",
     "output_type": "stream",
     "text": [
      "      \tnormal\tattack\t\n",
      "normal\t 13299\t   289\t\n",
      "attack\t     1\t 11516\t\n",
      " \n",
      "Accuracy = 0.988449\n",
      "AUC = 0.989322\n",
      " \n",
      "False Alarm Rate = 0.0212688\n",
      "Detection Rate = 0.999913\n",
      "F1 score = 0.987565\n",
      " \n",
      "              precision    recall  f1-score   support\n",
      "\n",
      "         0.0       1.00      0.98      0.99     13588\n",
      "         1.0       0.98      1.00      0.99     11517\n",
      "\n",
      "    accuracy                           0.99     25105\n",
      "   macro avg       0.99      0.99      0.99     25105\n",
      "weighted avg       0.99      0.99      0.99     25105\n",
      "\n",
      " \n"
     ]
    }
   ],
   "source": [
    "res_cv_df = res_cv_df.withColumn(sup_pred_col, col(dos_pred_col).cast('int')\n",
    "                                        .bitwiseOR(col(probe_pred_col).cast('int'))\n",
    "                                        .bitwiseOR(col(r2l_u2r_pred_col).cast('int'))).cache()\n",
    "\n",
    "printReport(res_cv_df, sup_pred_col, labels=labels2)"
   ]
  },
  {
   "cell_type": "code",
   "execution_count": 78,
   "metadata": {
    "scrolled": true
   },
   "outputs": [
    {
     "name": "stdout",
     "output_type": "stream",
     "text": [
      "      \tnormal\tattack\t\n",
      "normal\t  8370\t  1341\t\n",
      "attack\t   629\t 12204\t\n",
      " \n",
      "Accuracy = 0.912615\n",
      "AUC = 0.906447\n",
      " \n",
      "False Alarm Rate = 0.138091\n",
      "Detection Rate = 0.950986\n",
      "F1 score = 0.925317\n",
      " \n",
      "              precision    recall  f1-score   support\n",
      "\n",
      "         0.0       0.93      0.86      0.89      9711\n",
      "         1.0       0.90      0.95      0.93     12833\n",
      "\n",
      "    accuracy                           0.91     22544\n",
      "   macro avg       0.92      0.91      0.91     22544\n",
      "weighted avg       0.91      0.91      0.91     22544\n",
      "\n",
      " \n"
     ]
    }
   ],
   "source": [
    "res_test_df = res_test_df.withColumn(sup_prob_col, \n",
    "                                 (col(dos_prob_col) + col(probe_prob_col) + col(r2l_u2r_prob_col))/3).cache()\n",
    "\n",
    "printReport(res_test_df, sup_prob_col, e=0.005, labels=labels2)"
   ]
  },
  {
   "cell_type": "code",
   "execution_count": 79,
   "metadata": {
    "scrolled": true
   },
   "outputs": [
    {
     "name": "stdout",
     "output_type": "stream",
     "text": [
      "      \tnormal\tattack\t\n",
      "normal\t  8285\t  1426\t\n",
      "attack\t   346\t 12487\t\n",
      " \n",
      "Accuracy = 0.921398\n",
      "AUC = 0.913097\n",
      " \n",
      "False Alarm Rate = 0.146844\n",
      "Detection Rate = 0.973038\n",
      "F1 score = 0.933747\n",
      " \n",
      "              precision    recall  f1-score   support\n",
      "\n",
      "         0.0       0.96      0.85      0.90      9711\n",
      "         1.0       0.90      0.97      0.93     12833\n",
      "\n",
      "    accuracy                           0.92     22544\n",
      "   macro avg       0.93      0.91      0.92     22544\n",
      "weighted avg       0.92      0.92      0.92     22544\n",
      "\n",
      " \n"
     ]
    }
   ],
   "source": [
    "res_test_df = res_test_df.withColumn(sup_pred_col, col(dos_pred_col).cast('int')\n",
    "                                            .bitwiseOR(col(probe_pred_col).cast('int'))\n",
    "                                            .bitwiseOR(col(r2l_u2r_pred_col).cast('int'))).cache()\n",
    "\n",
    "printReport(res_test_df, sup_pred_col, labels=labels2)"
   ]
  },
  {
   "cell_type": "code",
   "execution_count": null,
   "metadata": {},
   "outputs": [],
   "source": []
  }
 ],
 "metadata": {
  "kernelspec": {
   "display_name": "Python 3",
   "language": "python",
   "name": "python3"
  },
  "language_info": {
   "codemirror_mode": {
    "name": "ipython",
    "version": 3
   },
   "file_extension": ".py",
   "mimetype": "text/x-python",
   "name": "python",
   "nbconvert_exporter": "python",
   "pygments_lexer": "ipython3",
   "version": "3.7.4"
  }
 },
 "nbformat": 4,
 "nbformat_minor": 1
}
